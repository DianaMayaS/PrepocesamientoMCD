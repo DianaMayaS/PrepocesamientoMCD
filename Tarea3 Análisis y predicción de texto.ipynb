{
 "cells": [
  {
   "cell_type": "markdown",
   "id": "58c84d46",
   "metadata": {},
   "source": [
    "## Tarea 3: Análisis y predicción de texto\n",
    "## Diana Claudia Maya Santes\n",
    "### Maestria Ciencia de Datos\n",
    "### Universidad Autónoma de Nuevo León"
   ]
  },
  {
   "cell_type": "code",
   "execution_count": 3,
   "id": "f7390d1f",
   "metadata": {
    "ExecuteTime": {
     "end_time": "2022-06-01T02:34:57.188597Z",
     "start_time": "2022-06-01T02:34:55.631211Z"
    },
    "id": "f7390d1f"
   },
   "outputs": [],
   "source": [
    "import numpy as np \n",
    "import pandas as pd \n",
    "from nltk.corpus import stopwords\n",
    "from nltk.stem.porter import PorterStemmer\n",
    "import nltk\n",
    "import re\n",
    "import unicodedata\n",
    "#from wordcloud import WordCloud\n",
    "from nltk.corpus import stopwords"
   ]
  },
  {
   "cell_type": "code",
   "execution_count": 61,
   "id": "019d770f",
   "metadata": {
    "ExecuteTime": {
     "end_time": "2022-05-25T03:00:44.649366Z",
     "start_time": "2022-05-25T03:00:43.643076Z"
    },
    "id": "019d770f"
   },
   "outputs": [],
   "source": [
    "#IMDB Movie Reviews\n",
    "#https://www.kaggle.com/code/lakshmi25npathi/sentiment-analysis-of-imdb-movie-reviews/data?select=IMDB+Dataset.csv\n",
    "\n",
    "reviews = pd.read_csv('IMDB Dataset.csv', encoding='latin1')"
   ]
  },
  {
   "cell_type": "code",
   "execution_count": 5,
   "id": "9b_ECMv0mns4",
   "metadata": {
    "colab": {
     "base_uri": "https://localhost:8080/"
    },
    "id": "9b_ECMv0mns4",
    "outputId": "76745ef0-a1ce-433e-a575-b3b9c26882ab"
   },
   "outputs": [
    {
     "name": "stdout",
     "output_type": "stream",
     "text": [
      "Mounted at /content/drive\n"
     ]
    }
   ],
   "source": [
    "from google.colab import drive\n",
    "drive.mount('/content/drive')"
   ]
  },
  {
   "cell_type": "code",
   "execution_count": 62,
   "id": "7e6b0177",
   "metadata": {
    "ExecuteTime": {
     "end_time": "2022-05-25T03:01:02.718256Z",
     "start_time": "2022-05-25T03:01:02.703253Z"
    },
    "colab": {
     "base_uri": "https://localhost:8080/",
     "height": 122
    },
    "id": "7e6b0177",
    "outputId": "fa8954c6-2e2f-44cc-890c-f96865f748e9"
   },
   "outputs": [
    {
     "data": {
      "text/plain": [
       "'I thought this was a wonderful way to spend time on a too hot summer weekend, sitting in the air conditioned theater and watching a light-hearted comedy. The plot is simplistic, but the dialogue is witty and the characters are likable (even the well bread suspected serial killer). While some may be disappointed when they realize this is not Match Point 2: Risk Addiction, I thought it was proof that Woody Allen is still fully in control of the style many of us have grown to love.<br /><br />This was the most I\\'d laughed at one of Woody\\'s comedies in years (dare I say a decade?). While I\\'ve never been impressed with Scarlet Johanson, in this she managed to tone down her \"sexy\" image and jumped right into a average, but spirited young woman.<br /><br />This may not be the crown jewel of his career, but it was wittier than \"Devil Wears Prada\" and more interesting than \"Superman\" a great comedy to go see with friends.'"
      ]
     },
     "execution_count": 62,
     "metadata": {},
     "output_type": "execute_result"
    }
   ],
   "source": [
    "reviews['review'][2]"
   ]
  },
  {
   "cell_type": "markdown",
   "id": "26f23b7e",
   "metadata": {
    "id": "26f23b7e"
   },
   "source": [
    "## Limpieza"
   ]
  },
  {
   "cell_type": "code",
   "execution_count": 63,
   "id": "ddcce809",
   "metadata": {
    "ExecuteTime": {
     "end_time": "2022-05-25T03:01:04.269025Z",
     "start_time": "2022-05-25T03:01:04.249156Z"
    },
    "id": "ddcce809"
   },
   "outputs": [],
   "source": [
    "#definimos una funcion que nos ayudara a quitar espacios adicionales, normalizar \n",
    "# hacer en minusculas todo el texto, quitar signos \n",
    "def limpiar_texto(text):\n",
    "    res =  unicodedata.normalize('NFD', text).encode('ascii', 'ignore')\n",
    "    res = re.sub(\"[^a-zA-Z ]\",\" \", res.decode(\"utf-8\"), flags=re.UNICODE)\n",
    "    res =  u' '.join(res.lower().split())\n",
    "    return res"
   ]
  },
  {
   "cell_type": "code",
   "execution_count": 64,
   "id": "71104b3d",
   "metadata": {
    "ExecuteTime": {
     "end_time": "2022-05-25T03:01:07.869218Z",
     "start_time": "2022-05-25T03:01:06.146927Z"
    },
    "id": "71104b3d"
   },
   "outputs": [],
   "source": [
    "reviews['texto_limpio'] = reviews['review'].map(limpiar_texto)"
   ]
  },
  {
   "cell_type": "markdown",
   "id": "5f13146d",
   "metadata": {
    "id": "5f13146d"
   },
   "source": [
    "## definimos para remover stopwords"
   ]
  },
  {
   "cell_type": "code",
   "execution_count": 65,
   "id": "psmHqVr6nXMJ",
   "metadata": {
    "ExecuteTime": {
     "end_time": "2022-05-25T03:01:08.149988Z",
     "start_time": "2022-05-25T03:01:07.870218Z"
    },
    "colab": {
     "base_uri": "https://localhost:8080/"
    },
    "id": "psmHqVr6nXMJ",
    "outputId": "d5f01bc0-030a-482f-a46a-466db7714459"
   },
   "outputs": [
    {
     "name": "stderr",
     "output_type": "stream",
     "text": [
      "[nltk_data] Downloading package stopwords to\n",
      "[nltk_data]     C:\\Users\\Diana\\AppData\\Roaming\\nltk_data...\n",
      "[nltk_data]   Package stopwords is already up-to-date!\n"
     ]
    },
    {
     "data": {
      "text/plain": [
       "True"
      ]
     },
     "execution_count": 65,
     "metadata": {},
     "output_type": "execute_result"
    }
   ],
   "source": [
    "nltk.download('stopwords')"
   ]
  },
  {
   "cell_type": "code",
   "execution_count": 66,
   "id": "f09b3eec",
   "metadata": {
    "ExecuteTime": {
     "end_time": "2022-05-25T03:01:10.135029Z",
     "start_time": "2022-05-25T03:01:10.110712Z"
    },
    "id": "f09b3eec"
   },
   "outputs": [],
   "source": [
    "# definimos para remover stopwords\n",
    "sw = nltk.corpus.stopwords.words('english')\n",
    "spw1=sw + ['br', 'br ',' br', ' br ', 'u']"
   ]
  },
  {
   "cell_type": "code",
   "execution_count": 67,
   "id": "e3bfa0d0",
   "metadata": {
    "ExecuteTime": {
     "end_time": "2022-05-25T03:01:10.806222Z",
     "start_time": "2022-05-25T03:01:10.782217Z"
    },
    "colab": {
     "base_uri": "https://localhost:8080/",
     "height": 424
    },
    "id": "e3bfa0d0",
    "outputId": "233b001c-3b78-4fbe-aac1-6dfb6dd9cd60"
   },
   "outputs": [
    {
     "data": {
      "text/html": [
       "<div>\n",
       "<style scoped>\n",
       "    .dataframe tbody tr th:only-of-type {\n",
       "        vertical-align: middle;\n",
       "    }\n",
       "\n",
       "    .dataframe tbody tr th {\n",
       "        vertical-align: top;\n",
       "    }\n",
       "\n",
       "    .dataframe thead th {\n",
       "        text-align: right;\n",
       "    }\n",
       "</style>\n",
       "<table border=\"1\" class=\"dataframe\">\n",
       "  <thead>\n",
       "    <tr style=\"text-align: right;\">\n",
       "      <th></th>\n",
       "      <th>review</th>\n",
       "      <th>sentiment</th>\n",
       "      <th>texto_limpio</th>\n",
       "    </tr>\n",
       "  </thead>\n",
       "  <tbody>\n",
       "    <tr>\n",
       "      <th>0</th>\n",
       "      <td>One of the other reviewers has mentioned that ...</td>\n",
       "      <td>positive</td>\n",
       "      <td>one of the other reviewers has mentioned that ...</td>\n",
       "    </tr>\n",
       "    <tr>\n",
       "      <th>1</th>\n",
       "      <td>A wonderful little production. &lt;br /&gt;&lt;br /&gt;The...</td>\n",
       "      <td>positive</td>\n",
       "      <td>a wonderful little production br br the filmin...</td>\n",
       "    </tr>\n",
       "    <tr>\n",
       "      <th>2</th>\n",
       "      <td>I thought this was a wonderful way to spend ti...</td>\n",
       "      <td>positive</td>\n",
       "      <td>i thought this was a wonderful way to spend ti...</td>\n",
       "    </tr>\n",
       "    <tr>\n",
       "      <th>3</th>\n",
       "      <td>Basically there's a family where a little boy ...</td>\n",
       "      <td>negative</td>\n",
       "      <td>basically there s a family where a little boy ...</td>\n",
       "    </tr>\n",
       "    <tr>\n",
       "      <th>4</th>\n",
       "      <td>Petter Mattei's \"Love in the Time of Money\" is...</td>\n",
       "      <td>positive</td>\n",
       "      <td>petter mattei s love in the time of money is a...</td>\n",
       "    </tr>\n",
       "    <tr>\n",
       "      <th>...</th>\n",
       "      <td>...</td>\n",
       "      <td>...</td>\n",
       "      <td>...</td>\n",
       "    </tr>\n",
       "    <tr>\n",
       "      <th>49995</th>\n",
       "      <td>I thought this movie did a down right good job...</td>\n",
       "      <td>positive</td>\n",
       "      <td>i thought this movie did a down right good job...</td>\n",
       "    </tr>\n",
       "    <tr>\n",
       "      <th>49996</th>\n",
       "      <td>Bad plot, bad dialogue, bad acting, idiotic di...</td>\n",
       "      <td>negative</td>\n",
       "      <td>bad plot bad dialogue bad acting idiotic direc...</td>\n",
       "    </tr>\n",
       "    <tr>\n",
       "      <th>49997</th>\n",
       "      <td>I am a Catholic taught in parochial elementary...</td>\n",
       "      <td>negative</td>\n",
       "      <td>i am a catholic taught in parochial elementary...</td>\n",
       "    </tr>\n",
       "    <tr>\n",
       "      <th>49998</th>\n",
       "      <td>I'm going to have to disagree with the previou...</td>\n",
       "      <td>negative</td>\n",
       "      <td>i m going to have to disagree with the previou...</td>\n",
       "    </tr>\n",
       "    <tr>\n",
       "      <th>49999</th>\n",
       "      <td>No one expects the Star Trek movies to be high...</td>\n",
       "      <td>negative</td>\n",
       "      <td>no one expects the star trek movies to be high...</td>\n",
       "    </tr>\n",
       "  </tbody>\n",
       "</table>\n",
       "<p>50000 rows × 3 columns</p>\n",
       "</div>"
      ],
      "text/plain": [
       "                                                  review sentiment  \\\n",
       "0      One of the other reviewers has mentioned that ...  positive   \n",
       "1      A wonderful little production. <br /><br />The...  positive   \n",
       "2      I thought this was a wonderful way to spend ti...  positive   \n",
       "3      Basically there's a family where a little boy ...  negative   \n",
       "4      Petter Mattei's \"Love in the Time of Money\" is...  positive   \n",
       "...                                                  ...       ...   \n",
       "49995  I thought this movie did a down right good job...  positive   \n",
       "49996  Bad plot, bad dialogue, bad acting, idiotic di...  negative   \n",
       "49997  I am a Catholic taught in parochial elementary...  negative   \n",
       "49998  I'm going to have to disagree with the previou...  negative   \n",
       "49999  No one expects the Star Trek movies to be high...  negative   \n",
       "\n",
       "                                            texto_limpio  \n",
       "0      one of the other reviewers has mentioned that ...  \n",
       "1      a wonderful little production br br the filmin...  \n",
       "2      i thought this was a wonderful way to spend ti...  \n",
       "3      basically there s a family where a little boy ...  \n",
       "4      petter mattei s love in the time of money is a...  \n",
       "...                                                  ...  \n",
       "49995  i thought this movie did a down right good job...  \n",
       "49996  bad plot bad dialogue bad acting idiotic direc...  \n",
       "49997  i am a catholic taught in parochial elementary...  \n",
       "49998  i m going to have to disagree with the previou...  \n",
       "49999  no one expects the star trek movies to be high...  \n",
       "\n",
       "[50000 rows x 3 columns]"
      ]
     },
     "execution_count": 67,
     "metadata": {},
     "output_type": "execute_result"
    }
   ],
   "source": [
    "#reviews_2=reviews['texto_limpio']\n",
    "reviews"
   ]
  },
  {
   "cell_type": "code",
   "execution_count": 68,
   "id": "212ebe9e",
   "metadata": {
    "ExecuteTime": {
     "end_time": "2022-05-25T03:01:27.328666Z",
     "start_time": "2022-05-25T03:01:13.516727Z"
    },
    "id": "212ebe9e"
   },
   "outputs": [],
   "source": [
    "#quitamos stopwords\n",
    "reviews['texto_limpio'] = reviews['texto_limpio'].apply(lambda x: ' '.join([word for word in x.split() if word not in (spw1)]))\n"
   ]
  },
  {
   "cell_type": "code",
   "execution_count": 69,
   "id": "9f51351b",
   "metadata": {
    "ExecuteTime": {
     "end_time": "2022-05-25T03:01:27.344670Z",
     "start_time": "2022-05-25T03:01:27.329667Z"
    },
    "colab": {
     "base_uri": "https://localhost:8080/",
     "height": 88
    },
    "id": "9f51351b",
    "outputId": "f87f89d9-ac9a-462c-cc5b-ee8a80254626"
   },
   "outputs": [
    {
     "data": {
      "text/plain": [
       "'thought wonderful way spend time hot summer weekend sitting air conditioned theater watching light hearted comedy plot simplistic dialogue witty characters likable even well bread suspected serial killer may disappointed realize match point risk addiction thought proof woody allen still fully control style many us grown love laughed one woody comedies years dare say decade never impressed scarlet johanson managed tone sexy image jumped right average spirited young woman may crown jewel career wittier devil wears prada interesting superman great comedy go see friends'"
      ]
     },
     "execution_count": 69,
     "metadata": {},
     "output_type": "execute_result"
    }
   ],
   "source": [
    "reviews['texto_limpio'][2]\n",
    "#'br' in spw1\n"
   ]
  },
  {
   "cell_type": "markdown",
   "id": "9d219ea6",
   "metadata": {
    "id": "9d219ea6"
   },
   "source": [
    "## Tokenización "
   ]
  },
  {
   "cell_type": "code",
   "execution_count": 70,
   "id": "7cbf2a7a",
   "metadata": {
    "ExecuteTime": {
     "end_time": "2022-05-25T03:01:28.634134Z",
     "start_time": "2022-05-25T03:01:27.345670Z"
    },
    "id": "7cbf2a7a"
   },
   "outputs": [],
   "source": [
    "#reviews\n",
    "#Separamos por palabra en cada fila\n",
    "#reviews['texto_limpio'][1].split() \n",
    "#usamos una comprehension list\n",
    "reviews['texto_limpio']=reviews['texto_limpio'].map(lambda x:x.split(\" \"))"
   ]
  },
  {
   "cell_type": "code",
   "execution_count": 71,
   "id": "1fdf8fe0",
   "metadata": {
    "ExecuteTime": {
     "end_time": "2022-05-25T03:01:28.650139Z",
     "start_time": "2022-05-25T03:01:28.636136Z"
    },
    "colab": {
     "base_uri": "https://localhost:8080/",
     "height": 424
    },
    "id": "1fdf8fe0",
    "outputId": "e51fb594-6bd2-4909-bd10-551bcbd5b008"
   },
   "outputs": [
    {
     "data": {
      "text/html": [
       "<div>\n",
       "<style scoped>\n",
       "    .dataframe tbody tr th:only-of-type {\n",
       "        vertical-align: middle;\n",
       "    }\n",
       "\n",
       "    .dataframe tbody tr th {\n",
       "        vertical-align: top;\n",
       "    }\n",
       "\n",
       "    .dataframe thead th {\n",
       "        text-align: right;\n",
       "    }\n",
       "</style>\n",
       "<table border=\"1\" class=\"dataframe\">\n",
       "  <thead>\n",
       "    <tr style=\"text-align: right;\">\n",
       "      <th></th>\n",
       "      <th>review</th>\n",
       "      <th>sentiment</th>\n",
       "      <th>texto_limpio</th>\n",
       "    </tr>\n",
       "  </thead>\n",
       "  <tbody>\n",
       "    <tr>\n",
       "      <th>0</th>\n",
       "      <td>One of the other reviewers has mentioned that ...</td>\n",
       "      <td>positive</td>\n",
       "      <td>[one, reviewers, mentioned, watching, oz, epis...</td>\n",
       "    </tr>\n",
       "    <tr>\n",
       "      <th>1</th>\n",
       "      <td>A wonderful little production. &lt;br /&gt;&lt;br /&gt;The...</td>\n",
       "      <td>positive</td>\n",
       "      <td>[wonderful, little, production, filming, techn...</td>\n",
       "    </tr>\n",
       "    <tr>\n",
       "      <th>2</th>\n",
       "      <td>I thought this was a wonderful way to spend ti...</td>\n",
       "      <td>positive</td>\n",
       "      <td>[thought, wonderful, way, spend, time, hot, su...</td>\n",
       "    </tr>\n",
       "    <tr>\n",
       "      <th>3</th>\n",
       "      <td>Basically there's a family where a little boy ...</td>\n",
       "      <td>negative</td>\n",
       "      <td>[basically, family, little, boy, jake, thinks,...</td>\n",
       "    </tr>\n",
       "    <tr>\n",
       "      <th>4</th>\n",
       "      <td>Petter Mattei's \"Love in the Time of Money\" is...</td>\n",
       "      <td>positive</td>\n",
       "      <td>[petter, mattei, love, time, money, visually, ...</td>\n",
       "    </tr>\n",
       "    <tr>\n",
       "      <th>...</th>\n",
       "      <td>...</td>\n",
       "      <td>...</td>\n",
       "      <td>...</td>\n",
       "    </tr>\n",
       "    <tr>\n",
       "      <th>49995</th>\n",
       "      <td>I thought this movie did a down right good job...</td>\n",
       "      <td>positive</td>\n",
       "      <td>[thought, movie, right, good, job, creative, o...</td>\n",
       "    </tr>\n",
       "    <tr>\n",
       "      <th>49996</th>\n",
       "      <td>Bad plot, bad dialogue, bad acting, idiotic di...</td>\n",
       "      <td>negative</td>\n",
       "      <td>[bad, plot, bad, dialogue, bad, acting, idioti...</td>\n",
       "    </tr>\n",
       "    <tr>\n",
       "      <th>49997</th>\n",
       "      <td>I am a Catholic taught in parochial elementary...</td>\n",
       "      <td>negative</td>\n",
       "      <td>[catholic, taught, parochial, elementary, scho...</td>\n",
       "    </tr>\n",
       "    <tr>\n",
       "      <th>49998</th>\n",
       "      <td>I'm going to have to disagree with the previou...</td>\n",
       "      <td>negative</td>\n",
       "      <td>[going, disagree, previous, comment, side, mal...</td>\n",
       "    </tr>\n",
       "    <tr>\n",
       "      <th>49999</th>\n",
       "      <td>No one expects the Star Trek movies to be high...</td>\n",
       "      <td>negative</td>\n",
       "      <td>[one, expects, star, trek, movies, high, art, ...</td>\n",
       "    </tr>\n",
       "  </tbody>\n",
       "</table>\n",
       "<p>50000 rows × 3 columns</p>\n",
       "</div>"
      ],
      "text/plain": [
       "                                                  review sentiment  \\\n",
       "0      One of the other reviewers has mentioned that ...  positive   \n",
       "1      A wonderful little production. <br /><br />The...  positive   \n",
       "2      I thought this was a wonderful way to spend ti...  positive   \n",
       "3      Basically there's a family where a little boy ...  negative   \n",
       "4      Petter Mattei's \"Love in the Time of Money\" is...  positive   \n",
       "...                                                  ...       ...   \n",
       "49995  I thought this movie did a down right good job...  positive   \n",
       "49996  Bad plot, bad dialogue, bad acting, idiotic di...  negative   \n",
       "49997  I am a Catholic taught in parochial elementary...  negative   \n",
       "49998  I'm going to have to disagree with the previou...  negative   \n",
       "49999  No one expects the Star Trek movies to be high...  negative   \n",
       "\n",
       "                                            texto_limpio  \n",
       "0      [one, reviewers, mentioned, watching, oz, epis...  \n",
       "1      [wonderful, little, production, filming, techn...  \n",
       "2      [thought, wonderful, way, spend, time, hot, su...  \n",
       "3      [basically, family, little, boy, jake, thinks,...  \n",
       "4      [petter, mattei, love, time, money, visually, ...  \n",
       "...                                                  ...  \n",
       "49995  [thought, movie, right, good, job, creative, o...  \n",
       "49996  [bad, plot, bad, dialogue, bad, acting, idioti...  \n",
       "49997  [catholic, taught, parochial, elementary, scho...  \n",
       "49998  [going, disagree, previous, comment, side, mal...  \n",
       "49999  [one, expects, star, trek, movies, high, art, ...  \n",
       "\n",
       "[50000 rows x 3 columns]"
      ]
     },
     "execution_count": 71,
     "metadata": {},
     "output_type": "execute_result"
    }
   ],
   "source": [
    "reviews"
   ]
  },
  {
   "cell_type": "markdown",
   "id": "5e16f6f1",
   "metadata": {
    "id": "5e16f6f1"
   },
   "source": [
    "## Lematización"
   ]
  },
  {
   "cell_type": "code",
   "execution_count": 72,
   "id": "d636a7df",
   "metadata": {
    "ExecuteTime": {
     "end_time": "2022-05-25T03:01:38.289826Z",
     "start_time": "2022-05-25T03:01:38.221848Z"
    },
    "colab": {
     "base_uri": "https://localhost:8080/"
    },
    "id": "d636a7df",
    "outputId": "ba18fd34-6362-4eef-dffc-b1116a1aad7e"
   },
   "outputs": [
    {
     "name": "stderr",
     "output_type": "stream",
     "text": [
      "[nltk_data] Downloading package wordnet to\n",
      "[nltk_data]     C:\\Users\\Diana\\AppData\\Roaming\\nltk_data...\n",
      "[nltk_data]   Package wordnet is already up-to-date!\n"
     ]
    },
    {
     "data": {
      "text/plain": [
       "True"
      ]
     },
     "execution_count": 72,
     "metadata": {},
     "output_type": "execute_result"
    }
   ],
   "source": [
    "import nltk\n",
    "nltk.download('wordnet')"
   ]
  },
  {
   "cell_type": "code",
   "execution_count": 73,
   "id": "c407d378",
   "metadata": {
    "ExecuteTime": {
     "end_time": "2022-05-25T03:01:40.450407Z",
     "start_time": "2022-05-25T03:01:40.448406Z"
    },
    "id": "c407d378"
   },
   "outputs": [],
   "source": [
    "from nltk.stem import WordNetLemmatizer \n",
    "import re"
   ]
  },
  {
   "cell_type": "code",
   "execution_count": 74,
   "id": "2e576e5d",
   "metadata": {
    "ExecuteTime": {
     "end_time": "2022-05-25T03:01:56.113627Z",
     "start_time": "2022-05-25T03:01:42.571313Z"
    },
    "colab": {
     "base_uri": "https://localhost:8080/",
     "height": 206
    },
    "id": "2e576e5d",
    "outputId": "1e217593-4e89-4bcf-9c5f-e584bf0f2f95"
   },
   "outputs": [
    {
     "data": {
      "text/html": [
       "<div>\n",
       "<style scoped>\n",
       "    .dataframe tbody tr th:only-of-type {\n",
       "        vertical-align: middle;\n",
       "    }\n",
       "\n",
       "    .dataframe tbody tr th {\n",
       "        vertical-align: top;\n",
       "    }\n",
       "\n",
       "    .dataframe thead th {\n",
       "        text-align: right;\n",
       "    }\n",
       "</style>\n",
       "<table border=\"1\" class=\"dataframe\">\n",
       "  <thead>\n",
       "    <tr style=\"text-align: right;\">\n",
       "      <th></th>\n",
       "      <th>review</th>\n",
       "      <th>sentiment</th>\n",
       "      <th>texto_limpio</th>\n",
       "    </tr>\n",
       "  </thead>\n",
       "  <tbody>\n",
       "    <tr>\n",
       "      <th>0</th>\n",
       "      <td>One of the other reviewers has mentioned that ...</td>\n",
       "      <td>positive</td>\n",
       "      <td>[one, reviewer, mentioned, watching, oz, episo...</td>\n",
       "    </tr>\n",
       "    <tr>\n",
       "      <th>1</th>\n",
       "      <td>A wonderful little production. &lt;br /&gt;&lt;br /&gt;The...</td>\n",
       "      <td>positive</td>\n",
       "      <td>[wonderful, little, production, filming, techn...</td>\n",
       "    </tr>\n",
       "    <tr>\n",
       "      <th>2</th>\n",
       "      <td>I thought this was a wonderful way to spend ti...</td>\n",
       "      <td>positive</td>\n",
       "      <td>[thought, wonderful, way, spend, time, hot, su...</td>\n",
       "    </tr>\n",
       "    <tr>\n",
       "      <th>3</th>\n",
       "      <td>Basically there's a family where a little boy ...</td>\n",
       "      <td>negative</td>\n",
       "      <td>[basically, family, little, boy, jake, think, ...</td>\n",
       "    </tr>\n",
       "    <tr>\n",
       "      <th>4</th>\n",
       "      <td>Petter Mattei's \"Love in the Time of Money\" is...</td>\n",
       "      <td>positive</td>\n",
       "      <td>[petter, mattei, love, time, money, visually, ...</td>\n",
       "    </tr>\n",
       "  </tbody>\n",
       "</table>\n",
       "</div>"
      ],
      "text/plain": [
       "                                              review sentiment  \\\n",
       "0  One of the other reviewers has mentioned that ...  positive   \n",
       "1  A wonderful little production. <br /><br />The...  positive   \n",
       "2  I thought this was a wonderful way to spend ti...  positive   \n",
       "3  Basically there's a family where a little boy ...  negative   \n",
       "4  Petter Mattei's \"Love in the Time of Money\" is...  positive   \n",
       "\n",
       "                                        texto_limpio  \n",
       "0  [one, reviewer, mentioned, watching, oz, episo...  \n",
       "1  [wonderful, little, production, filming, techn...  \n",
       "2  [thought, wonderful, way, spend, time, hot, su...  \n",
       "3  [basically, family, little, boy, jake, think, ...  \n",
       "4  [petter, mattei, love, time, money, visually, ...  "
      ]
     },
     "execution_count": 74,
     "metadata": {},
     "output_type": "execute_result"
    }
   ],
   "source": [
    "wn = nltk.WordNetLemmatizer()\n",
    "\n",
    "def lemmatizer(text):\n",
    "    text = [wn.lemmatize(word) for word in text]\n",
    "    return text\n",
    "\n",
    "reviews['texto_limpio'] = reviews['texto_limpio'].apply(lambda x: lemmatizer(x))\n",
    "reviews.head()"
   ]
  },
  {
   "cell_type": "markdown",
   "id": "Ee2amafy2zIe",
   "metadata": {
    "id": "Ee2amafy2zIe"
   },
   "source": [
    "## Steaming"
   ]
  },
  {
   "cell_type": "code",
   "execution_count": 75,
   "id": "EiF5NBM32f1S",
   "metadata": {
    "ExecuteTime": {
     "end_time": "2022-05-25T03:03:11.020801Z",
     "start_time": "2022-05-25T03:01:59.644390Z"
    },
    "colab": {
     "base_uri": "https://localhost:8080/",
     "height": 206
    },
    "id": "EiF5NBM32f1S",
    "outputId": "3db2a49f-b15c-4835-9955-4326ef6f08bc"
   },
   "outputs": [
    {
     "data": {
      "text/html": [
       "<div>\n",
       "<style scoped>\n",
       "    .dataframe tbody tr th:only-of-type {\n",
       "        vertical-align: middle;\n",
       "    }\n",
       "\n",
       "    .dataframe tbody tr th {\n",
       "        vertical-align: top;\n",
       "    }\n",
       "\n",
       "    .dataframe thead th {\n",
       "        text-align: right;\n",
       "    }\n",
       "</style>\n",
       "<table border=\"1\" class=\"dataframe\">\n",
       "  <thead>\n",
       "    <tr style=\"text-align: right;\">\n",
       "      <th></th>\n",
       "      <th>review</th>\n",
       "      <th>sentiment</th>\n",
       "      <th>texto_limpio</th>\n",
       "    </tr>\n",
       "  </thead>\n",
       "  <tbody>\n",
       "    <tr>\n",
       "      <th>0</th>\n",
       "      <td>One of the other reviewers has mentioned that ...</td>\n",
       "      <td>positive</td>\n",
       "      <td>[one, review, mention, watch, oz, episod, hook...</td>\n",
       "    </tr>\n",
       "    <tr>\n",
       "      <th>1</th>\n",
       "      <td>A wonderful little production. &lt;br /&gt;&lt;br /&gt;The...</td>\n",
       "      <td>positive</td>\n",
       "      <td>[wonder, littl, product, film, techniqu, unass...</td>\n",
       "    </tr>\n",
       "    <tr>\n",
       "      <th>2</th>\n",
       "      <td>I thought this was a wonderful way to spend ti...</td>\n",
       "      <td>positive</td>\n",
       "      <td>[thought, wonder, way, spend, time, hot, summe...</td>\n",
       "    </tr>\n",
       "    <tr>\n",
       "      <th>3</th>\n",
       "      <td>Basically there's a family where a little boy ...</td>\n",
       "      <td>negative</td>\n",
       "      <td>[basic, famili, littl, boy, jake, think, zombi...</td>\n",
       "    </tr>\n",
       "    <tr>\n",
       "      <th>4</th>\n",
       "      <td>Petter Mattei's \"Love in the Time of Money\" is...</td>\n",
       "      <td>positive</td>\n",
       "      <td>[petter, mattei, love, time, money, visual, st...</td>\n",
       "    </tr>\n",
       "  </tbody>\n",
       "</table>\n",
       "</div>"
      ],
      "text/plain": [
       "                                              review sentiment  \\\n",
       "0  One of the other reviewers has mentioned that ...  positive   \n",
       "1  A wonderful little production. <br /><br />The...  positive   \n",
       "2  I thought this was a wonderful way to spend ti...  positive   \n",
       "3  Basically there's a family where a little boy ...  negative   \n",
       "4  Petter Mattei's \"Love in the Time of Money\" is...  positive   \n",
       "\n",
       "                                        texto_limpio  \n",
       "0  [one, review, mention, watch, oz, episod, hook...  \n",
       "1  [wonder, littl, product, film, techniqu, unass...  \n",
       "2  [thought, wonder, way, spend, time, hot, summe...  \n",
       "3  [basic, famili, littl, boy, jake, think, zombi...  \n",
       "4  [petter, mattei, love, time, money, visual, st...  "
      ]
     },
     "execution_count": 75,
     "metadata": {},
     "output_type": "execute_result"
    }
   ],
   "source": [
    "ps = PorterStemmer()\n",
    "def Steamm(text):\n",
    "    text = [ps.stem(word) for word in text]\n",
    "    return text\n",
    "\n",
    "reviews['texto_limpio'] = reviews['texto_limpio'].apply(lambda x: Steamm(x))\n",
    "reviews.head()"
   ]
  },
  {
   "cell_type": "markdown",
   "id": "b1d21927",
   "metadata": {
    "id": "b1d21927"
   },
   "source": [
    "## nube de palabras"
   ]
  },
  {
   "cell_type": "code",
   "execution_count": 91,
   "id": "fc47206f",
   "metadata": {
    "ExecuteTime": {
     "end_time": "2022-05-20T03:27:56.562215Z",
     "start_time": "2022-05-20T03:27:56.532687Z"
    },
    "id": "fc47206f"
   },
   "outputs": [],
   "source": [
    "from wordcloud import WordCloud\n",
    "import matplotlib.pyplot as plt \n",
    "import itertools"
   ]
  },
  {
   "cell_type": "code",
   "execution_count": 61,
   "id": "01NOKdrUoS9F",
   "metadata": {
    "id": "01NOKdrUoS9F"
   },
   "outputs": [],
   "source": [
    "spw1=sw+['br','br']"
   ]
  },
  {
   "cell_type": "code",
   "execution_count": 38,
   "id": "nnmglR2wo8p_",
   "metadata": {
    "id": "nnmglR2wo8p_"
   },
   "outputs": [],
   "source": [
    "Mov_rev=list(itertools.chain.from_iterable(reviews['texto_limpio']))"
   ]
  },
  {
   "cell_type": "code",
   "execution_count": null,
   "id": "AmRAYzhMvKqH",
   "metadata": {
    "id": "AmRAYzhMvKqH"
   },
   "outputs": [],
   "source": [
    "Mov_rev=[]\n",
    "[Mov_rev.extend(reviews['texto_limpio'][i]) for i in range(len(reviews))]"
   ]
  },
  {
   "cell_type": "code",
   "execution_count": 97,
   "id": "2beee53a",
   "metadata": {
    "ExecuteTime": {
     "end_time": "2022-05-20T03:27:05.407302Z",
     "start_time": "2022-05-20T03:27:05.376227Z"
    },
    "colab": {
     "base_uri": "https://localhost:8080/",
     "height": 366
    },
    "id": "2beee53a",
    "outputId": "d4b64f89-beb4-4381-d49a-51d148089dc7"
   },
   "outputs": [
    {
     "data": {
      "image/png": "[encoded data removed]",
      "text/plain": [
       "<Figure size 864x864 with 1 Axes>"
      ]
     },
     "metadata": {
      "needs_background": "light"
     },
     "output_type": "display_data"
    }
   ],
   "source": [
    "def show_wordcloud(data, title = None):\n",
    "    wordcloud = WordCloud(\n",
    "        background_color='white',\n",
    "        stopwords=spw1,\n",
    "        max_words=200,\n",
    "        max_font_size=40, \n",
    "        scale=3,\n",
    "        random_state=1 # chosen at random by flipping a coin; it was heads\n",
    "    ).generate(str(data))\n",
    "\n",
    "    fig = plt.figure(1, figsize=(12, 12))\n",
    "    plt.axis('off')\n",
    "    if title: \n",
    "        fig.suptitle(title, fontsize=20)\n",
    "        fig.subplots_adjust(top=2.3)\n",
    "\n",
    "    plt.imshow(wordcloud)\n",
    "    plt.show()\n",
    "\n",
    "show_wordcloud(Mov_rev)"
   ]
  },
  {
   "cell_type": "code",
   "execution_count": 102,
   "id": "d09ecb77",
   "metadata": {
    "ExecuteTime": {
     "end_time": "2022-05-20T03:12:39.377550Z",
     "start_time": "2022-05-20T03:12:39.144312Z"
    },
    "id": "d09ecb77"
   },
   "outputs": [],
   "source": [
    "from matplotlib.pyplot import figure"
   ]
  },
  {
   "cell_type": "code",
   "execution_count": 103,
   "id": "34eaeea1",
   "metadata": {
    "ExecuteTime": {
     "end_time": "2022-05-20T03:12:57.743786Z",
     "start_time": "2022-05-20T03:12:57.680417Z"
    },
    "colab": {
     "base_uri": "https://localhost:8080/",
     "height": 372
    },
    "id": "34eaeea1",
    "outputId": "2643bb23-a0af-4a5c-fe79-27ee2c128180"
   },
   "outputs": [
    {
     "data": {
      "image/png": "[encoded data removed]",
      "text/plain": [
       "<Figure size 720x360 with 1 Axes>"
      ]
     },
     "metadata": {
      "needs_background": "light"
     },
     "output_type": "display_data"
    }
   ],
   "source": [
    "%matplotlib inline\n",
    "\n",
    "# Creating the word frequency distribution\n",
    "freqdist = nltk.FreqDist(Mov_rev)\n",
    "\n",
    "# Plotting the word frequency distribution\n",
    "figure(figsize=(10,5))\n",
    "freqdist.plot(25)"
   ]
  },
  {
   "cell_type": "markdown",
   "id": "5b6fa04a",
   "metadata": {
    "id": "50c17052"
   },
   "source": [
    "#  Tarea 2"
   ]
  },
  {
   "cell_type": "code",
   "execution_count": 76,
   "id": "c4ce5521",
   "metadata": {
    "ExecuteTime": {
     "end_time": "2022-05-25T03:04:49.049569Z",
     "start_time": "2022-05-25T03:04:48.529770Z"
    }
   },
   "outputs": [],
   "source": [
    "reviews_2 = pd.read_csv('IMDB Dataset.csv', encoding='latin1')"
   ]
  },
  {
   "cell_type": "code",
   "execution_count": 77,
   "id": "12162618",
   "metadata": {
    "ExecuteTime": {
     "end_time": "2022-05-25T03:04:54.128881Z",
     "start_time": "2022-05-25T03:04:54.110290Z"
    }
   },
   "outputs": [
    {
     "data": {
      "text/html": [
       "<div>\n",
       "<style scoped>\n",
       "    .dataframe tbody tr th:only-of-type {\n",
       "        vertical-align: middle;\n",
       "    }\n",
       "\n",
       "    .dataframe tbody tr th {\n",
       "        vertical-align: top;\n",
       "    }\n",
       "\n",
       "    .dataframe thead th {\n",
       "        text-align: right;\n",
       "    }\n",
       "</style>\n",
       "<table border=\"1\" class=\"dataframe\">\n",
       "  <thead>\n",
       "    <tr style=\"text-align: right;\">\n",
       "      <th></th>\n",
       "      <th>review</th>\n",
       "      <th>sentiment</th>\n",
       "    </tr>\n",
       "  </thead>\n",
       "  <tbody>\n",
       "    <tr>\n",
       "      <th>49995</th>\n",
       "      <td>I thought this movie did a down right good job...</td>\n",
       "      <td>positive</td>\n",
       "    </tr>\n",
       "    <tr>\n",
       "      <th>49996</th>\n",
       "      <td>Bad plot, bad dialogue, bad acting, idiotic di...</td>\n",
       "      <td>negative</td>\n",
       "    </tr>\n",
       "    <tr>\n",
       "      <th>49997</th>\n",
       "      <td>I am a Catholic taught in parochial elementary...</td>\n",
       "      <td>negative</td>\n",
       "    </tr>\n",
       "    <tr>\n",
       "      <th>49998</th>\n",
       "      <td>I'm going to have to disagree with the previou...</td>\n",
       "      <td>negative</td>\n",
       "    </tr>\n",
       "    <tr>\n",
       "      <th>49999</th>\n",
       "      <td>No one expects the Star Trek movies to be high...</td>\n",
       "      <td>negative</td>\n",
       "    </tr>\n",
       "  </tbody>\n",
       "</table>\n",
       "</div>"
      ],
      "text/plain": [
       "                                                  review sentiment\n",
       "49995  I thought this movie did a down right good job...  positive\n",
       "49996  Bad plot, bad dialogue, bad acting, idiotic di...  negative\n",
       "49997  I am a Catholic taught in parochial elementary...  negative\n",
       "49998  I'm going to have to disagree with the previou...  negative\n",
       "49999  No one expects the Star Trek movies to be high...  negative"
      ]
     },
     "execution_count": 77,
     "metadata": {},
     "output_type": "execute_result"
    }
   ],
   "source": [
    "reviews_2.tail()"
   ]
  },
  {
   "cell_type": "code",
   "execution_count": 79,
   "id": "56aec37e",
   "metadata": {
    "ExecuteTime": {
     "end_time": "2022-05-25T05:36:34.988352Z",
     "start_time": "2022-05-25T05:36:34.948548Z"
    }
   },
   "outputs": [],
   "source": [
    "def limpiar_tokenizar(texto):    \n",
    "    # Se convierte todo el texto a minúsculas\n",
    "    nuevo_texto = texto.lower()\n",
    "    # Eliminación de páginas web (palabras que empiezan por \"http\")\n",
    "    nuevo_texto = re.sub('http\\S+', ' ', nuevo_texto)\n",
    "    # Eliminación de signos de puntuación\n",
    "    regex = '[\\\\!\\\\\"\\\\#\\\\$\\\\%\\\\&\\\\\\'\\\\(\\\\)\\\\*\\\\+\\\\,\\\\-\\\\.\\\\/\\\\:\\\\;\\\\<\\\\=\\\\>\\\\?\\\\@\\\\[\\\\\\\\\\\\]\\\\^_\\\\`\\\\{\\\\|\\\\}\\\\~]'\n",
    "    nuevo_texto = re.sub(regex , ' ', nuevo_texto)\n",
    "    # Eliminación de números\n",
    "    nuevo_texto = re.sub(\"\\d+\", ' ', nuevo_texto)\n",
    "    # Eliminación de espacios en blanco múltiples\n",
    "    nuevo_texto = re.sub(\"\\\\s+\", ' ', nuevo_texto)\n",
    "    # Tokenización por palabras individuales\n",
    "    nuevo_texto = nuevo_texto.split(sep = ' ')\n",
    "    # Eliminación de tokens con una longitud < 2\n",
    "    nuevo_texto = [token for token in nuevo_texto if len(token) > 1]\n",
    "    \n",
    "    return(nuevo_texto)"
   ]
  },
  {
   "cell_type": "code",
   "execution_count": 82,
   "id": "3480946f",
   "metadata": {
    "ExecuteTime": {
     "end_time": "2022-05-25T05:39:30.784230Z",
     "start_time": "2022-05-25T05:39:21.683901Z"
    }
   },
   "outputs": [],
   "source": [
    "reviews_2['texto_tokenizado'] = reviews_2['review'].apply(lambda x: limpiar_tokenizar(x))"
   ]
  },
  {
   "cell_type": "code",
   "execution_count": 84,
   "id": "ccdd96b7",
   "metadata": {
    "ExecuteTime": {
     "end_time": "2022-05-25T05:39:53.210274Z",
     "start_time": "2022-05-25T05:39:53.155751Z"
    }
   },
   "outputs": [
    {
     "data": {
      "text/html": [
       "<div>\n",
       "<style scoped>\n",
       "    .dataframe tbody tr th:only-of-type {\n",
       "        vertical-align: middle;\n",
       "    }\n",
       "\n",
       "    .dataframe tbody tr th {\n",
       "        vertical-align: top;\n",
       "    }\n",
       "\n",
       "    .dataframe thead th {\n",
       "        text-align: right;\n",
       "    }\n",
       "</style>\n",
       "<table border=\"1\" class=\"dataframe\">\n",
       "  <thead>\n",
       "    <tr style=\"text-align: right;\">\n",
       "      <th></th>\n",
       "      <th>review</th>\n",
       "      <th>texto_tokenizado</th>\n",
       "    </tr>\n",
       "  </thead>\n",
       "  <tbody>\n",
       "    <tr>\n",
       "      <th>0</th>\n",
       "      <td>One of the other reviewers has mentioned that ...</td>\n",
       "      <td>[one, of, the, other, reviewers, has, mentione...</td>\n",
       "    </tr>\n",
       "    <tr>\n",
       "      <th>1</th>\n",
       "      <td>A wonderful little production. &lt;br /&gt;&lt;br /&gt;The...</td>\n",
       "      <td>[wonderful, little, production, br, br, the, f...</td>\n",
       "    </tr>\n",
       "    <tr>\n",
       "      <th>2</th>\n",
       "      <td>I thought this was a wonderful way to spend ti...</td>\n",
       "      <td>[thought, this, was, wonderful, way, to, spend...</td>\n",
       "    </tr>\n",
       "    <tr>\n",
       "      <th>3</th>\n",
       "      <td>Basically there's a family where a little boy ...</td>\n",
       "      <td>[basically, there, family, where, little, boy,...</td>\n",
       "    </tr>\n",
       "    <tr>\n",
       "      <th>4</th>\n",
       "      <td>Petter Mattei's \"Love in the Time of Money\" is...</td>\n",
       "      <td>[petter, mattei, love, in, the, time, of, mone...</td>\n",
       "    </tr>\n",
       "  </tbody>\n",
       "</table>\n",
       "</div>"
      ],
      "text/plain": [
       "                                              review  \\\n",
       "0  One of the other reviewers has mentioned that ...   \n",
       "1  A wonderful little production. <br /><br />The...   \n",
       "2  I thought this was a wonderful way to spend ti...   \n",
       "3  Basically there's a family where a little boy ...   \n",
       "4  Petter Mattei's \"Love in the Time of Money\" is...   \n",
       "\n",
       "                                    texto_tokenizado  \n",
       "0  [one, of, the, other, reviewers, has, mentione...  \n",
       "1  [wonderful, little, production, br, br, the, f...  \n",
       "2  [thought, this, was, wonderful, way, to, spend...  \n",
       "3  [basically, there, family, where, little, boy,...  \n",
       "4  [petter, mattei, love, in, the, time, of, mone...  "
      ]
     },
     "execution_count": 84,
     "metadata": {},
     "output_type": "execute_result"
    }
   ],
   "source": [
    "reviews_2[['review', 'texto_tokenizado']].head()"
   ]
  },
  {
   "cell_type": "code",
   "execution_count": 86,
   "id": "98d11c63",
   "metadata": {
    "ExecuteTime": {
     "end_time": "2022-05-25T05:42:10.411883Z",
     "start_time": "2022-05-25T05:42:06.941869Z"
    }
   },
   "outputs": [
    {
     "data": {
      "text/html": [
       "<div>\n",
       "<style scoped>\n",
       "    .dataframe tbody tr th:only-of-type {\n",
       "        vertical-align: middle;\n",
       "    }\n",
       "\n",
       "    .dataframe tbody tr th {\n",
       "        vertical-align: top;\n",
       "    }\n",
       "\n",
       "    .dataframe thead th {\n",
       "        text-align: right;\n",
       "    }\n",
       "</style>\n",
       "<table border=\"1\" class=\"dataframe\">\n",
       "  <thead>\n",
       "    <tr style=\"text-align: right;\">\n",
       "      <th></th>\n",
       "      <th>sentiment</th>\n",
       "      <th>token</th>\n",
       "    </tr>\n",
       "  </thead>\n",
       "  <tbody>\n",
       "    <tr>\n",
       "      <th>0</th>\n",
       "      <td>positive</td>\n",
       "      <td>one</td>\n",
       "    </tr>\n",
       "    <tr>\n",
       "      <th>0</th>\n",
       "      <td>positive</td>\n",
       "      <td>of</td>\n",
       "    </tr>\n",
       "    <tr>\n",
       "      <th>0</th>\n",
       "      <td>positive</td>\n",
       "      <td>the</td>\n",
       "    </tr>\n",
       "  </tbody>\n",
       "</table>\n",
       "</div>"
      ],
      "text/plain": [
       "  sentiment token\n",
       "0  positive   one\n",
       "0  positive    of\n",
       "0  positive   the"
      ]
     },
     "execution_count": 86,
     "metadata": {},
     "output_type": "execute_result"
    }
   ],
   "source": [
    "reviews_tidy = reviews_2.explode(column='texto_tokenizado')\n",
    "reviews_tidy = reviews_tidy.drop(columns='review')\n",
    "reviews_tidy = reviews_tidy.rename(columns={'texto_tokenizado':'token'})\n",
    "reviews_tidy.head(3)"
   ]
  },
  {
   "cell_type": "code",
   "execution_count": 87,
   "id": "1130a9dd",
   "metadata": {
    "ExecuteTime": {
     "end_time": "2022-05-25T05:43:07.770376Z",
     "start_time": "2022-05-25T05:43:07.272260Z"
    }
   },
   "outputs": [
    {
     "data": {
      "text/plain": [
       "11180308"
      ]
     },
     "execution_count": 87,
     "metadata": {},
     "output_type": "execute_result"
    }
   ],
   "source": [
    "## numero de palabras\n",
    "reviews_tidy['token'].count()"
   ]
  },
  {
   "cell_type": "code",
   "execution_count": 88,
   "id": "ce98d470",
   "metadata": {
    "ExecuteTime": {
     "end_time": "2022-05-25T05:57:12.898983Z",
     "start_time": "2022-05-25T05:57:12.011775Z"
    }
   },
   "outputs": [
    {
     "data": {
      "text/plain": [
       "101743"
      ]
     },
     "execution_count": 88,
     "metadata": {},
     "output_type": "execute_result"
    }
   ],
   "source": [
    "reviews_tidy['token'].nuniqueique()"
   ]
  },
  {
   "cell_type": "code",
   "execution_count": 96,
   "id": "ee733edd",
   "metadata": {
    "ExecuteTime": {
     "end_time": "2022-05-25T06:02:05.350441Z",
     "start_time": "2022-05-25T06:02:04.500593Z"
    },
    "scrolled": false
   },
   "outputs": [
    {
     "name": "stdout",
     "output_type": "stream",
     "text": [
      "['i', 'me', 'my', 'myself', 'we', 'our', 'ours', 'ourselves', 'you', \"you're\"]\n"
     ]
    },
    {
     "name": "stderr",
     "output_type": "stream",
     "text": [
      "[nltk_data] Downloading package stopwords to\n",
      "[nltk_data]     C:\\Users\\Diana\\AppData\\Roaming\\nltk_data...\n",
      "[nltk_data]   Package stopwords is already up-to-date!\n"
     ]
    }
   ],
   "source": [
    "nltk.download('stopwords')\n",
    "# Obtención de listado de stopwords del inglés\n",
    "# ==============================================================================\n",
    "stop_words = list(stopwords.words('english'))\n",
    "# Se añade la stoprword: amp, ax, ex\n",
    "stop_words.extend((\"amp\", \"xa\", \"xe\"))\n",
    "print(stop_words[:10])"
   ]
  },
  {
   "cell_type": "code",
   "execution_count": 97,
   "id": "0910a3eb",
   "metadata": {
    "ExecuteTime": {
     "end_time": "2022-05-25T06:02:41.134257Z",
     "start_time": "2022-05-25T06:02:39.516891Z"
    }
   },
   "outputs": [],
   "source": [
    "reviews_tidy = reviews_tidy[~(reviews_tidy[\"token\"].isin(stop_words))]"
   ]
  },
  {
   "cell_type": "code",
   "execution_count": 105,
   "id": "f277cf1b",
   "metadata": {
    "ExecuteTime": {
     "end_time": "2022-05-25T06:22:02.308609Z",
     "start_time": "2022-05-25T06:22:01.046680Z"
    }
   },
   "outputs": [],
   "source": [
    "reviews_tidy=reviews_tidy[reviews_tidy['token']!='br'][['sentiment','token']]"
   ]
  },
  {
   "cell_type": "code",
   "execution_count": 107,
   "id": "2d80cda8",
   "metadata": {
    "ExecuteTime": {
     "end_time": "2022-05-25T06:22:18.710481Z",
     "start_time": "2022-05-25T06:22:17.534679Z"
    }
   },
   "outputs": [
    {
     "data": {
      "image/png": "[encoded data removed]",
      "text/plain": [
       "<Figure size 432x504 with 1 Axes>"
      ]
     },
     "metadata": {
      "needs_background": "light"
     },
     "output_type": "display_data"
    }
   ],
   "source": [
    "fig, axs = plt.subplots(nrows=1, ncols=1,figsize=(6, 7))\n",
    "df_temp = reviews_tidy\n",
    "counts  = df_temp['token'].value_counts(ascending=False).head(10)\n",
    "counts.plot(kind='barh', color='firebrick')\n",
    "fig.tight_layout()"
   ]
  },
  {
   "cell_type": "code",
   "execution_count": 115,
   "id": "ea1acd75",
   "metadata": {
    "ExecuteTime": {
     "end_time": "2022-05-25T06:38:34.600899Z",
     "start_time": "2022-05-25T06:38:34.091768Z"
    }
   },
   "outputs": [],
   "source": [
    "#reviews_2\n",
    "reviews_2['texto_tokenizado']=[\" \".join(x) for x in reviews_2['texto_tokenizado']]"
   ]
  },
  {
   "cell_type": "code",
   "execution_count": 116,
   "id": "9cb6b462",
   "metadata": {
    "ExecuteTime": {
     "end_time": "2022-05-25T06:38:45.245548Z",
     "start_time": "2022-05-25T06:38:45.221527Z"
    }
   },
   "outputs": [
    {
     "data": {
      "text/html": [
       "<div>\n",
       "<style scoped>\n",
       "    .dataframe tbody tr th:only-of-type {\n",
       "        vertical-align: middle;\n",
       "    }\n",
       "\n",
       "    .dataframe tbody tr th {\n",
       "        vertical-align: top;\n",
       "    }\n",
       "\n",
       "    .dataframe thead th {\n",
       "        text-align: right;\n",
       "    }\n",
       "</style>\n",
       "<table border=\"1\" class=\"dataframe\">\n",
       "  <thead>\n",
       "    <tr style=\"text-align: right;\">\n",
       "      <th></th>\n",
       "      <th>review</th>\n",
       "      <th>sentiment</th>\n",
       "      <th>texto_tokenizado</th>\n",
       "    </tr>\n",
       "  </thead>\n",
       "  <tbody>\n",
       "    <tr>\n",
       "      <th>0</th>\n",
       "      <td>One of the other reviewers has mentioned that ...</td>\n",
       "      <td>positive</td>\n",
       "      <td>one of the other reviewers has mentioned that ...</td>\n",
       "    </tr>\n",
       "    <tr>\n",
       "      <th>1</th>\n",
       "      <td>A wonderful little production. &lt;br /&gt;&lt;br /&gt;The...</td>\n",
       "      <td>positive</td>\n",
       "      <td>wonderful little production br br the filming ...</td>\n",
       "    </tr>\n",
       "    <tr>\n",
       "      <th>2</th>\n",
       "      <td>I thought this was a wonderful way to spend ti...</td>\n",
       "      <td>positive</td>\n",
       "      <td>thought this was wonderful way to spend time o...</td>\n",
       "    </tr>\n",
       "    <tr>\n",
       "      <th>3</th>\n",
       "      <td>Basically there's a family where a little boy ...</td>\n",
       "      <td>negative</td>\n",
       "      <td>basically there family where little boy jake t...</td>\n",
       "    </tr>\n",
       "    <tr>\n",
       "      <th>4</th>\n",
       "      <td>Petter Mattei's \"Love in the Time of Money\" is...</td>\n",
       "      <td>positive</td>\n",
       "      <td>petter mattei love in the time of money is vis...</td>\n",
       "    </tr>\n",
       "    <tr>\n",
       "      <th>...</th>\n",
       "      <td>...</td>\n",
       "      <td>...</td>\n",
       "      <td>...</td>\n",
       "    </tr>\n",
       "    <tr>\n",
       "      <th>49995</th>\n",
       "      <td>I thought this movie did a down right good job...</td>\n",
       "      <td>positive</td>\n",
       "      <td>thought this movie did down right good job it ...</td>\n",
       "    </tr>\n",
       "    <tr>\n",
       "      <th>49996</th>\n",
       "      <td>Bad plot, bad dialogue, bad acting, idiotic di...</td>\n",
       "      <td>negative</td>\n",
       "      <td>bad plot bad dialogue bad acting idiotic direc...</td>\n",
       "    </tr>\n",
       "    <tr>\n",
       "      <th>49997</th>\n",
       "      <td>I am a Catholic taught in parochial elementary...</td>\n",
       "      <td>negative</td>\n",
       "      <td>am catholic taught in parochial elementary sch...</td>\n",
       "    </tr>\n",
       "    <tr>\n",
       "      <th>49998</th>\n",
       "      <td>I'm going to have to disagree with the previou...</td>\n",
       "      <td>negative</td>\n",
       "      <td>going to have to disagree with the previous co...</td>\n",
       "    </tr>\n",
       "    <tr>\n",
       "      <th>49999</th>\n",
       "      <td>No one expects the Star Trek movies to be high...</td>\n",
       "      <td>negative</td>\n",
       "      <td>no one expects the star trek movies to be high...</td>\n",
       "    </tr>\n",
       "  </tbody>\n",
       "</table>\n",
       "<p>50000 rows × 3 columns</p>\n",
       "</div>"
      ],
      "text/plain": [
       "                                                  review sentiment  \\\n",
       "0      One of the other reviewers has mentioned that ...  positive   \n",
       "1      A wonderful little production. <br /><br />The...  positive   \n",
       "2      I thought this was a wonderful way to spend ti...  positive   \n",
       "3      Basically there's a family where a little boy ...  negative   \n",
       "4      Petter Mattei's \"Love in the Time of Money\" is...  positive   \n",
       "...                                                  ...       ...   \n",
       "49995  I thought this movie did a down right good job...  positive   \n",
       "49996  Bad plot, bad dialogue, bad acting, idiotic di...  negative   \n",
       "49997  I am a Catholic taught in parochial elementary...  negative   \n",
       "49998  I'm going to have to disagree with the previou...  negative   \n",
       "49999  No one expects the Star Trek movies to be high...  negative   \n",
       "\n",
       "                                        texto_tokenizado  \n",
       "0      one of the other reviewers has mentioned that ...  \n",
       "1      wonderful little production br br the filming ...  \n",
       "2      thought this was wonderful way to spend time o...  \n",
       "3      basically there family where little boy jake t...  \n",
       "4      petter mattei love in the time of money is vis...  \n",
       "...                                                  ...  \n",
       "49995  thought this movie did down right good job it ...  \n",
       "49996  bad plot bad dialogue bad acting idiotic direc...  \n",
       "49997  am catholic taught in parochial elementary sch...  \n",
       "49998  going to have to disagree with the previous co...  \n",
       "49999  no one expects the star trek movies to be high...  \n",
       "\n",
       "[50000 rows x 3 columns]"
      ]
     },
     "execution_count": 116,
     "metadata": {},
     "output_type": "execute_result"
    }
   ],
   "source": []
  },
  {
   "cell_type": "code",
   "execution_count": 109,
   "id": "edd55b32",
   "metadata": {
    "ExecuteTime": {
     "end_time": "2022-05-25T06:34:39.676631Z",
     "start_time": "2022-05-25T06:34:39.510759Z"
    }
   },
   "outputs": [
    {
     "name": "stderr",
     "output_type": "stream",
     "text": [
      "[nltk_data] Downloading package punkt to\n",
      "[nltk_data]     C:\\Users\\Diana\\AppData\\Roaming\\nltk_data...\n",
      "[nltk_data]   Package punkt is already up-to-date!\n",
      "[nltk_data] Downloading package stopwords to\n",
      "[nltk_data]     C:\\Users\\Diana\\AppData\\Roaming\\nltk_data...\n",
      "[nltk_data]   Package stopwords is already up-to-date!\n",
      "[nltk_data] Downloading package wordnet to\n",
      "[nltk_data]     C:\\Users\\Diana\\AppData\\Roaming\\nltk_data...\n",
      "[nltk_data]   Package wordnet is already up-to-date!\n",
      "[nltk_data] Downloading package averaged_perceptron_tagger to\n",
      "[nltk_data]     C:\\Users\\Diana\\AppData\\Roaming\\nltk_data...\n",
      "[nltk_data]   Package averaged_perceptron_tagger is already up-to-\n",
      "[nltk_data]       date!\n"
     ]
    },
    {
     "data": {
      "text/plain": [
       "True"
      ]
     },
     "execution_count": 109,
     "metadata": {},
     "output_type": "execute_result"
    }
   ],
   "source": [
    "import nltk\n",
    "nltk.download('punkt')\n",
    "from nltk.tokenize import word_tokenize\n",
    "from nltk import pos_tag\n",
    "nltk.download('stopwords')\n",
    "from nltk.corpus import stopwords\n",
    "nltk.download('wordnet')\n",
    "from nltk.corpus import wordnet\n",
    "nltk.download('averaged_perceptron_tagger')"
   ]
  },
  {
   "cell_type": "code",
   "execution_count": 117,
   "id": "987edaf7",
   "metadata": {
    "ExecuteTime": {
     "end_time": "2022-05-25T07:32:09.751014Z",
     "start_time": "2022-05-25T06:48:52.018982Z"
    }
   },
   "outputs": [],
   "source": [
    "# POS tagger dictionary\n",
    "pos_dict = {'J':wordnet.ADJ, 'V':wordnet.VERB, 'N':wordnet.NOUN, 'R':wordnet.ADV}\n",
    "\n",
    "def token_stop_pos(text):\n",
    "    tags = pos_tag(word_tokenize(text))\n",
    "    newlist = []\n",
    "    for word, tag in tags:\n",
    "        if word.lower() not in set(stopwords.words('english')):\n",
    "            newlist.append(tuple([word, pos_dict.get(tag[0])]))\n",
    "    return newlist\n",
    "\n",
    "reviews_2['POS tagged'] = reviews_2['texto_tokenizado'].apply(token_stop_pos)\n"
   ]
  },
  {
   "cell_type": "code",
   "execution_count": null,
   "id": "1b4e2bfb",
   "metadata": {},
   "outputs": [],
   "source": [
    "from nltk.stem import WordNetLemmatizer\n",
    "wordnet_lemmatizer = WordNetLemmatizer()"
   ]
  },
  {
   "cell_type": "code",
   "execution_count": 118,
   "id": "22135c92",
   "metadata": {
    "ExecuteTime": {
     "end_time": "2022-05-25T07:32:25.068696Z",
     "start_time": "2022-05-25T07:32:09.753014Z"
    }
   },
   "outputs": [
    {
     "data": {
      "text/html": [
       "<div>\n",
       "<style scoped>\n",
       "    .dataframe tbody tr th:only-of-type {\n",
       "        vertical-align: middle;\n",
       "    }\n",
       "\n",
       "    .dataframe tbody tr th {\n",
       "        vertical-align: top;\n",
       "    }\n",
       "\n",
       "    .dataframe thead th {\n",
       "        text-align: right;\n",
       "    }\n",
       "</style>\n",
       "<table border=\"1\" class=\"dataframe\">\n",
       "  <thead>\n",
       "    <tr style=\"text-align: right;\">\n",
       "      <th></th>\n",
       "      <th>review</th>\n",
       "      <th>sentiment</th>\n",
       "      <th>texto_tokenizado</th>\n",
       "      <th>POS tagged</th>\n",
       "      <th>Lemma</th>\n",
       "    </tr>\n",
       "  </thead>\n",
       "  <tbody>\n",
       "    <tr>\n",
       "      <th>0</th>\n",
       "      <td>One of the other reviewers has mentioned that ...</td>\n",
       "      <td>positive</td>\n",
       "      <td>one of the other reviewers has mentioned that ...</td>\n",
       "      <td>[(one, None), (reviewers, n), (mentioned, v), ...</td>\n",
       "      <td>one reviewer mention watch oz episode hook r...</td>\n",
       "    </tr>\n",
       "    <tr>\n",
       "      <th>1</th>\n",
       "      <td>A wonderful little production. &lt;br /&gt;&lt;br /&gt;The...</td>\n",
       "      <td>positive</td>\n",
       "      <td>wonderful little production br br the filming ...</td>\n",
       "      <td>[(wonderful, a), (little, a), (production, n),...</td>\n",
       "      <td>wonderful little production br br filming te...</td>\n",
       "    </tr>\n",
       "    <tr>\n",
       "      <th>2</th>\n",
       "      <td>I thought this was a wonderful way to spend ti...</td>\n",
       "      <td>positive</td>\n",
       "      <td>thought this was wonderful way to spend time o...</td>\n",
       "      <td>[(thought, n), (wonderful, a), (way, n), (spen...</td>\n",
       "      <td>thought wonderful way spend time hot summer ...</td>\n",
       "    </tr>\n",
       "    <tr>\n",
       "      <th>3</th>\n",
       "      <td>Basically there's a family where a little boy ...</td>\n",
       "      <td>negative</td>\n",
       "      <td>basically there family where little boy jake t...</td>\n",
       "      <td>[(basically, r), (family, n), (little, a), (bo...</td>\n",
       "      <td>basically family little boy jake think zombi...</td>\n",
       "    </tr>\n",
       "    <tr>\n",
       "      <th>4</th>\n",
       "      <td>Petter Mattei's \"Love in the Time of Money\" is...</td>\n",
       "      <td>positive</td>\n",
       "      <td>petter mattei love in the time of money is vis...</td>\n",
       "      <td>[(petter, n), (mattei, n), (love, n), (time, n...</td>\n",
       "      <td>petter mattei love time money visually stunn...</td>\n",
       "    </tr>\n",
       "  </tbody>\n",
       "</table>\n",
       "</div>"
      ],
      "text/plain": [
       "                                              review sentiment  \\\n",
       "0  One of the other reviewers has mentioned that ...  positive   \n",
       "1  A wonderful little production. <br /><br />The...  positive   \n",
       "2  I thought this was a wonderful way to spend ti...  positive   \n",
       "3  Basically there's a family where a little boy ...  negative   \n",
       "4  Petter Mattei's \"Love in the Time of Money\" is...  positive   \n",
       "\n",
       "                                    texto_tokenizado  \\\n",
       "0  one of the other reviewers has mentioned that ...   \n",
       "1  wonderful little production br br the filming ...   \n",
       "2  thought this was wonderful way to spend time o...   \n",
       "3  basically there family where little boy jake t...   \n",
       "4  petter mattei love in the time of money is vis...   \n",
       "\n",
       "                                          POS tagged  \\\n",
       "0  [(one, None), (reviewers, n), (mentioned, v), ...   \n",
       "1  [(wonderful, a), (little, a), (production, n),...   \n",
       "2  [(thought, n), (wonderful, a), (way, n), (spen...   \n",
       "3  [(basically, r), (family, n), (little, a), (bo...   \n",
       "4  [(petter, n), (mattei, n), (love, n), (time, n...   \n",
       "\n",
       "                                               Lemma  \n",
       "0    one reviewer mention watch oz episode hook r...  \n",
       "1    wonderful little production br br filming te...  \n",
       "2    thought wonderful way spend time hot summer ...  \n",
       "3    basically family little boy jake think zombi...  \n",
       "4    petter mattei love time money visually stunn...  "
      ]
     },
     "execution_count": 118,
     "metadata": {},
     "output_type": "execute_result"
    }
   ],
   "source": [
    "def lemmatize(pos_data):\n",
    "    lemma_rew = \" \"\n",
    "    for word, pos in pos_data:\n",
    "        if not pos: \n",
    "            lemma = word\n",
    "            lemma_rew = lemma_rew + \" \" + lemma\n",
    "        else:  \n",
    "            lemma = wordnet_lemmatizer.lemmatize(word, pos=pos)\n",
    "            lemma_rew = lemma_rew + \" \" + lemma\n",
    "    return lemma_rew\n",
    "    \n",
    "reviews_2['Lemma'] = reviews_2['POS tagged'].apply(lemmatize)\n",
    "reviews_2.head()"
   ]
  },
  {
   "cell_type": "code",
   "execution_count": 4,
   "id": "a2c54a77",
   "metadata": {
    "ExecuteTime": {
     "end_time": "2022-06-01T02:35:51.032222Z",
     "start_time": "2022-06-01T02:35:48.522770Z"
    }
   },
   "outputs": [],
   "source": [
    "#reviews_2.to_csv('tagged.csv', index=False)\n",
    "tagged = pd.read_csv('C:/Users/Diana/Documents/Maestria CD/Materias/Proc_Clasificacion/Tarea 2/tagged.csv', encoding='latin1')"
   ]
  },
  {
   "cell_type": "code",
   "execution_count": 17,
   "id": "e0847ff5",
   "metadata": {
    "ExecuteTime": {
     "end_time": "2022-05-26T03:35:51.604445Z",
     "start_time": "2022-05-26T03:35:51.577269Z"
    },
    "scrolled": true
   },
   "outputs": [
    {
     "data": {
      "text/html": [
       "<div>\n",
       "<style scoped>\n",
       "    .dataframe tbody tr th:only-of-type {\n",
       "        vertical-align: middle;\n",
       "    }\n",
       "\n",
       "    .dataframe tbody tr th {\n",
       "        vertical-align: top;\n",
       "    }\n",
       "\n",
       "    .dataframe thead th {\n",
       "        text-align: right;\n",
       "    }\n",
       "</style>\n",
       "<table border=\"1\" class=\"dataframe\">\n",
       "  <thead>\n",
       "    <tr style=\"text-align: right;\">\n",
       "      <th></th>\n",
       "      <th>review</th>\n",
       "      <th>sentiment</th>\n",
       "      <th>texto_tokenizado</th>\n",
       "      <th>POS tagged</th>\n",
       "      <th>Lemma</th>\n",
       "    </tr>\n",
       "  </thead>\n",
       "  <tbody>\n",
       "    <tr>\n",
       "      <th>0</th>\n",
       "      <td>One of the other reviewers has mentioned that ...</td>\n",
       "      <td>positive</td>\n",
       "      <td>one of the other reviewers has mentioned that ...</td>\n",
       "      <td>[('one', None), ('reviewers', 'n'), ('mentione...</td>\n",
       "      <td>one reviewer mention watch oz episode hook r...</td>\n",
       "    </tr>\n",
       "    <tr>\n",
       "      <th>1</th>\n",
       "      <td>A wonderful little production. &lt;br /&gt;&lt;br /&gt;The...</td>\n",
       "      <td>positive</td>\n",
       "      <td>wonderful little production br br the filming ...</td>\n",
       "      <td>[('wonderful', 'a'), ('little', 'a'), ('produc...</td>\n",
       "      <td>wonderful little production br br filming te...</td>\n",
       "    </tr>\n",
       "    <tr>\n",
       "      <th>2</th>\n",
       "      <td>I thought this was a wonderful way to spend ti...</td>\n",
       "      <td>positive</td>\n",
       "      <td>thought this was wonderful way to spend time o...</td>\n",
       "      <td>[('thought', 'n'), ('wonderful', 'a'), ('way',...</td>\n",
       "      <td>thought wonderful way spend time hot summer ...</td>\n",
       "    </tr>\n",
       "    <tr>\n",
       "      <th>3</th>\n",
       "      <td>Basically there's a family where a little boy ...</td>\n",
       "      <td>negative</td>\n",
       "      <td>basically there family where little boy jake t...</td>\n",
       "      <td>[('basically', 'r'), ('family', 'n'), ('little...</td>\n",
       "      <td>basically family little boy jake think zombi...</td>\n",
       "    </tr>\n",
       "    <tr>\n",
       "      <th>4</th>\n",
       "      <td>Petter Mattei's \"Love in the Time of Money\" is...</td>\n",
       "      <td>positive</td>\n",
       "      <td>petter mattei love in the time of money is vis...</td>\n",
       "      <td>[('petter', 'n'), ('mattei', 'n'), ('love', 'n...</td>\n",
       "      <td>petter mattei love time money visually stunn...</td>\n",
       "    </tr>\n",
       "    <tr>\n",
       "      <th>...</th>\n",
       "      <td>...</td>\n",
       "      <td>...</td>\n",
       "      <td>...</td>\n",
       "      <td>...</td>\n",
       "      <td>...</td>\n",
       "    </tr>\n",
       "    <tr>\n",
       "      <th>49995</th>\n",
       "      <td>I thought this movie did a down right good job...</td>\n",
       "      <td>positive</td>\n",
       "      <td>thought this movie did down right good job it ...</td>\n",
       "      <td>[('thought', 'n'), ('movie', 'n'), ('right', '...</td>\n",
       "      <td>thought movie right good job creative origin...</td>\n",
       "    </tr>\n",
       "    <tr>\n",
       "      <th>49996</th>\n",
       "      <td>Bad plot, bad dialogue, bad acting, idiotic di...</td>\n",
       "      <td>negative</td>\n",
       "      <td>bad plot bad dialogue bad acting idiotic direc...</td>\n",
       "      <td>[('bad', 'a'), ('plot', 'n'), ('bad', 'a'), ('...</td>\n",
       "      <td>bad plot bad dialogue bad act idiotic direct...</td>\n",
       "    </tr>\n",
       "    <tr>\n",
       "      <th>49997</th>\n",
       "      <td>I am a Catholic taught in parochial elementary...</td>\n",
       "      <td>negative</td>\n",
       "      <td>am catholic taught in parochial elementary sch...</td>\n",
       "      <td>[('catholic', 'a'), ('taught', 'n'), ('parochi...</td>\n",
       "      <td>catholic taught parochial elementary school ...</td>\n",
       "    </tr>\n",
       "    <tr>\n",
       "      <th>49998</th>\n",
       "      <td>I'm going to have to disagree with the previou...</td>\n",
       "      <td>negative</td>\n",
       "      <td>going to have to disagree with the previous co...</td>\n",
       "      <td>[('going', 'v'), ('disagree', 'v'), ('previous...</td>\n",
       "      <td>go disagree previous comment side maltin one...</td>\n",
       "    </tr>\n",
       "    <tr>\n",
       "      <th>49999</th>\n",
       "      <td>No one expects the Star Trek movies to be high...</td>\n",
       "      <td>negative</td>\n",
       "      <td>no one expects the star trek movies to be high...</td>\n",
       "      <td>[('one', 'n'), ('expects', 'v'), ('star', 'n')...</td>\n",
       "      <td>one expect star trek movie high art fan expe...</td>\n",
       "    </tr>\n",
       "  </tbody>\n",
       "</table>\n",
       "<p>50000 rows × 5 columns</p>\n",
       "</div>"
      ],
      "text/plain": [
       "                                                  review sentiment  \\\n",
       "0      One of the other reviewers has mentioned that ...  positive   \n",
       "1      A wonderful little production. <br /><br />The...  positive   \n",
       "2      I thought this was a wonderful way to spend ti...  positive   \n",
       "3      Basically there's a family where a little boy ...  negative   \n",
       "4      Petter Mattei's \"Love in the Time of Money\" is...  positive   \n",
       "...                                                  ...       ...   \n",
       "49995  I thought this movie did a down right good job...  positive   \n",
       "49996  Bad plot, bad dialogue, bad acting, idiotic di...  negative   \n",
       "49997  I am a Catholic taught in parochial elementary...  negative   \n",
       "49998  I'm going to have to disagree with the previou...  negative   \n",
       "49999  No one expects the Star Trek movies to be high...  negative   \n",
       "\n",
       "                                        texto_tokenizado  \\\n",
       "0      one of the other reviewers has mentioned that ...   \n",
       "1      wonderful little production br br the filming ...   \n",
       "2      thought this was wonderful way to spend time o...   \n",
       "3      basically there family where little boy jake t...   \n",
       "4      petter mattei love in the time of money is vis...   \n",
       "...                                                  ...   \n",
       "49995  thought this movie did down right good job it ...   \n",
       "49996  bad plot bad dialogue bad acting idiotic direc...   \n",
       "49997  am catholic taught in parochial elementary sch...   \n",
       "49998  going to have to disagree with the previous co...   \n",
       "49999  no one expects the star trek movies to be high...   \n",
       "\n",
       "                                              POS tagged  \\\n",
       "0      [('one', None), ('reviewers', 'n'), ('mentione...   \n",
       "1      [('wonderful', 'a'), ('little', 'a'), ('produc...   \n",
       "2      [('thought', 'n'), ('wonderful', 'a'), ('way',...   \n",
       "3      [('basically', 'r'), ('family', 'n'), ('little...   \n",
       "4      [('petter', 'n'), ('mattei', 'n'), ('love', 'n...   \n",
       "...                                                  ...   \n",
       "49995  [('thought', 'n'), ('movie', 'n'), ('right', '...   \n",
       "49996  [('bad', 'a'), ('plot', 'n'), ('bad', 'a'), ('...   \n",
       "49997  [('catholic', 'a'), ('taught', 'n'), ('parochi...   \n",
       "49998  [('going', 'v'), ('disagree', 'v'), ('previous...   \n",
       "49999  [('one', 'n'), ('expects', 'v'), ('star', 'n')...   \n",
       "\n",
       "                                                   Lemma  \n",
       "0        one reviewer mention watch oz episode hook r...  \n",
       "1        wonderful little production br br filming te...  \n",
       "2        thought wonderful way spend time hot summer ...  \n",
       "3        basically family little boy jake think zombi...  \n",
       "4        petter mattei love time money visually stunn...  \n",
       "...                                                  ...  \n",
       "49995    thought movie right good job creative origin...  \n",
       "49996    bad plot bad dialogue bad act idiotic direct...  \n",
       "49997    catholic taught parochial elementary school ...  \n",
       "49998    go disagree previous comment side maltin one...  \n",
       "49999    one expect star trek movie high art fan expe...  \n",
       "\n",
       "[50000 rows x 5 columns]"
      ]
     },
     "execution_count": 17,
     "metadata": {},
     "output_type": "execute_result"
    }
   ],
   "source": [
    "tagged\n",
    "#tagged[['revie','Lemma']]"
   ]
  },
  {
   "cell_type": "markdown",
   "id": "202df18c",
   "metadata": {},
   "source": [
    "## Analisis de sentimiento usando TextBlob"
   ]
  },
  {
   "cell_type": "code",
   "execution_count": 6,
   "id": "f99f5eee",
   "metadata": {
    "ExecuteTime": {
     "end_time": "2022-06-01T02:36:02.173703Z",
     "start_time": "2022-06-01T02:36:02.157700Z"
    }
   },
   "outputs": [],
   "source": [
    "from textblob import TextBlob"
   ]
  },
  {
   "cell_type": "code",
   "execution_count": 7,
   "id": "462bb305",
   "metadata": {
    "ExecuteTime": {
     "end_time": "2022-06-01T02:36:02.817239Z",
     "start_time": "2022-06-01T02:36:02.799224Z"
    }
   },
   "outputs": [],
   "source": [
    "# function to calculate subjectivity \n",
    "def getSubjectivity(review):\n",
    "    return TextBlob(review).sentiment.subjectivity\n",
    "# function to calculate polarity\n",
    "def getPolarity(review):\n",
    "    return TextBlob(review).sentiment.polarity\n",
    "# function to analyze the reviews\n",
    "def analysis(score):\n",
    "    if score < 0:\n",
    "        return 'Negative'\n",
    "    elif score == 0:\n",
    "        return 'Neutral'\n",
    "    else:\n",
    "        return 'Positive'"
   ]
  },
  {
   "cell_type": "code",
   "execution_count": 8,
   "id": "70e9d4de",
   "metadata": {
    "ExecuteTime": {
     "end_time": "2022-06-01T02:36:06.380517Z",
     "start_time": "2022-06-01T02:36:06.343504Z"
    }
   },
   "outputs": [],
   "source": [
    "fin_data = pd.DataFrame(tagged[['review', 'Lemma']])"
   ]
  },
  {
   "cell_type": "code",
   "execution_count": 9,
   "id": "ab1abb6c",
   "metadata": {
    "ExecuteTime": {
     "end_time": "2022-06-01T02:36:27.478004Z",
     "start_time": "2022-06-01T02:36:07.632417Z"
    }
   },
   "outputs": [
    {
     "data": {
      "text/html": [
       "<div>\n",
       "<style scoped>\n",
       "    .dataframe tbody tr th:only-of-type {\n",
       "        vertical-align: middle;\n",
       "    }\n",
       "\n",
       "    .dataframe tbody tr th {\n",
       "        vertical-align: top;\n",
       "    }\n",
       "\n",
       "    .dataframe thead th {\n",
       "        text-align: right;\n",
       "    }\n",
       "</style>\n",
       "<table border=\"1\" class=\"dataframe\">\n",
       "  <thead>\n",
       "    <tr style=\"text-align: right;\">\n",
       "      <th></th>\n",
       "      <th>review</th>\n",
       "      <th>Lemma</th>\n",
       "      <th>Polarity</th>\n",
       "      <th>Analysis</th>\n",
       "    </tr>\n",
       "  </thead>\n",
       "  <tbody>\n",
       "    <tr>\n",
       "      <th>0</th>\n",
       "      <td>One of the other reviewers has mentioned that ...</td>\n",
       "      <td>one reviewer mention watch oz episode hook r...</td>\n",
       "      <td>0.040548</td>\n",
       "      <td>Positive</td>\n",
       "    </tr>\n",
       "    <tr>\n",
       "      <th>1</th>\n",
       "      <td>A wonderful little production. &lt;br /&gt;&lt;br /&gt;The...</td>\n",
       "      <td>wonderful little production br br filming te...</td>\n",
       "      <td>0.125980</td>\n",
       "      <td>Positive</td>\n",
       "    </tr>\n",
       "    <tr>\n",
       "      <th>2</th>\n",
       "      <td>I thought this was a wonderful way to spend ti...</td>\n",
       "      <td>thought wonderful way spend time hot summer ...</td>\n",
       "      <td>0.381513</td>\n",
       "      <td>Positive</td>\n",
       "    </tr>\n",
       "    <tr>\n",
       "      <th>3</th>\n",
       "      <td>Basically there's a family where a little boy ...</td>\n",
       "      <td>basically family little boy jake think zombi...</td>\n",
       "      <td>-0.004167</td>\n",
       "      <td>Negative</td>\n",
       "    </tr>\n",
       "    <tr>\n",
       "      <th>4</th>\n",
       "      <td>Petter Mattei's \"Love in the Time of Money\" is...</td>\n",
       "      <td>petter mattei love time money visually stunn...</td>\n",
       "      <td>0.229516</td>\n",
       "      <td>Positive</td>\n",
       "    </tr>\n",
       "  </tbody>\n",
       "</table>\n",
       "</div>"
      ],
      "text/plain": [
       "                                              review  \\\n",
       "0  One of the other reviewers has mentioned that ...   \n",
       "1  A wonderful little production. <br /><br />The...   \n",
       "2  I thought this was a wonderful way to spend ti...   \n",
       "3  Basically there's a family where a little boy ...   \n",
       "4  Petter Mattei's \"Love in the Time of Money\" is...   \n",
       "\n",
       "                                               Lemma  Polarity  Analysis  \n",
       "0    one reviewer mention watch oz episode hook r...  0.040548  Positive  \n",
       "1    wonderful little production br br filming te...  0.125980  Positive  \n",
       "2    thought wonderful way spend time hot summer ...  0.381513  Positive  \n",
       "3    basically family little boy jake think zombi... -0.004167  Negative  \n",
       "4    petter mattei love time money visually stunn...  0.229516  Positive  "
      ]
     },
     "execution_count": 9,
     "metadata": {},
     "output_type": "execute_result"
    }
   ],
   "source": [
    "# fin_data['Subjectivity'] = fin_data['Lemma'].apply(getSubjectivity) \n",
    "fin_data['Polarity'] = fin_data['Lemma'].apply(getPolarity) \n",
    "fin_data['Analysis'] = fin_data['Polarity'].apply(analysis)\n",
    "fin_data.head()"
   ]
  },
  {
   "cell_type": "code",
   "execution_count": 10,
   "id": "eba5e79d",
   "metadata": {
    "ExecuteTime": {
     "end_time": "2022-06-01T02:37:06.944538Z",
     "start_time": "2022-06-01T02:37:06.925528Z"
    }
   },
   "outputs": [
    {
     "data": {
      "text/plain": [
       "Positive    37076\n",
       "Negative    12880\n",
       "Neutral        44\n",
       "Name: Analysis, dtype: int64"
      ]
     },
     "execution_count": 10,
     "metadata": {},
     "output_type": "execute_result"
    }
   ],
   "source": [
    "tb_counts = fin_data.Analysis.value_counts()\n",
    "tb_counts"
   ]
  },
  {
   "cell_type": "code",
   "execution_count": 11,
   "id": "0dd82148",
   "metadata": {
    "ExecuteTime": {
     "end_time": "2022-06-01T02:37:09.886329Z",
     "start_time": "2022-06-01T02:37:09.393924Z"
    }
   },
   "outputs": [],
   "source": [
    "import matplotlib.pyplot as plt\n",
    "%matplotlib inline"
   ]
  },
  {
   "cell_type": "code",
   "execution_count": 12,
   "id": "11d6dcb5",
   "metadata": {
    "ExecuteTime": {
     "end_time": "2022-06-01T02:37:10.136662Z",
     "start_time": "2022-06-01T02:37:10.032199Z"
    }
   },
   "outputs": [
    {
     "data": {
      "text/plain": [
       "([<matplotlib.patches.Wedge at 0x24496421160>,\n",
       "  <matplotlib.patches.Wedge at 0x244964217f0>,\n",
       "  <matplotlib.patches.Wedge at 0x24496421f10>],\n",
       " [Text(-0.7568222703907437, 0.7982606410443898, 'Positive'),\n",
       "  Text(0.7546125009241671, -0.8003499068838417, 'Negative'),\n",
       "  Text(1.3499948408939786, -0.003732232527768241, 'Neutral')],\n",
       " [Text(-0.41281214748586015, 0.43541489511512166, '74.2%'),\n",
       "  Text(0.41160681868590926, -0.4365544946639136, '25.8%'),\n",
       "  Text(0.8499967516739865, -0.0023499241841503735, '0.1%')])"
      ]
     },
     "execution_count": 12,
     "metadata": {},
     "output_type": "execute_result"
    },
    {
     "data": {
      "image/png": "[encoded data removed]",
      "text/plain": [
       "<Figure size 720x504 with 1 Axes>"
      ]
     },
     "metadata": {},
     "output_type": "display_data"
    }
   ],
   "source": [
    "tb_count= fin_data.Analysis.value_counts()\n",
    "plt.figure(figsize=(10, 7))\n",
    "plt.pie(tb_counts.values, labels = tb_counts.index, explode = (0, 0, 0.25), autopct='%1.1f%%', shadow=False)"
   ]
  },
  {
   "cell_type": "markdown",
   "id": "d5f0d5a2",
   "metadata": {},
   "source": [
    "## Analisis de sentimiento usando VADER"
   ]
  },
  {
   "cell_type": "code",
   "execution_count": 13,
   "id": "e13ee7e2",
   "metadata": {
    "ExecuteTime": {
     "end_time": "2022-06-01T02:37:12.820294Z",
     "start_time": "2022-06-01T02:37:12.776260Z"
    }
   },
   "outputs": [],
   "source": [
    "from vaderSentiment.vaderSentiment import SentimentIntensityAnalyzer\n",
    "analyzer = SentimentIntensityAnalyzer()"
   ]
  },
  {
   "cell_type": "code",
   "execution_count": 14,
   "id": "60076bbe",
   "metadata": {
    "ExecuteTime": {
     "end_time": "2022-06-01T02:38:34.758358Z",
     "start_time": "2022-06-01T02:37:13.296566Z"
    }
   },
   "outputs": [],
   "source": [
    "def vadersentimentanalysis(review):\n",
    "    vs = analyzer.polarity_scores(review)\n",
    "    return vs['compound']\n",
    "\n",
    "fin_data['Vader Sentiment'] = fin_data['Lemma'].apply(vadersentimentanalysis)"
   ]
  },
  {
   "cell_type": "code",
   "execution_count": 15,
   "id": "e8c2a8eb",
   "metadata": {
    "ExecuteTime": {
     "end_time": "2022-06-01T02:38:34.774542Z",
     "start_time": "2022-06-01T02:38:34.759359Z"
    }
   },
   "outputs": [
    {
     "data": {
      "text/html": [
       "<div>\n",
       "<style scoped>\n",
       "    .dataframe tbody tr th:only-of-type {\n",
       "        vertical-align: middle;\n",
       "    }\n",
       "\n",
       "    .dataframe tbody tr th {\n",
       "        vertical-align: top;\n",
       "    }\n",
       "\n",
       "    .dataframe thead th {\n",
       "        text-align: right;\n",
       "    }\n",
       "</style>\n",
       "<table border=\"1\" class=\"dataframe\">\n",
       "  <thead>\n",
       "    <tr style=\"text-align: right;\">\n",
       "      <th></th>\n",
       "      <th>review</th>\n",
       "      <th>Lemma</th>\n",
       "      <th>Polarity</th>\n",
       "      <th>Analysis</th>\n",
       "      <th>Vader Sentiment</th>\n",
       "      <th>Vader Analysis</th>\n",
       "    </tr>\n",
       "  </thead>\n",
       "  <tbody>\n",
       "    <tr>\n",
       "      <th>0</th>\n",
       "      <td>One of the other reviewers has mentioned that ...</td>\n",
       "      <td>one reviewer mention watch oz episode hook r...</td>\n",
       "      <td>0.040548</td>\n",
       "      <td>Positive</td>\n",
       "      <td>-0.9916</td>\n",
       "      <td>Negative</td>\n",
       "    </tr>\n",
       "    <tr>\n",
       "      <th>1</th>\n",
       "      <td>A wonderful little production. &lt;br /&gt;&lt;br /&gt;The...</td>\n",
       "      <td>wonderful little production br br filming te...</td>\n",
       "      <td>0.125980</td>\n",
       "      <td>Positive</td>\n",
       "      <td>0.9589</td>\n",
       "      <td>Positive</td>\n",
       "    </tr>\n",
       "    <tr>\n",
       "      <th>2</th>\n",
       "      <td>I thought this was a wonderful way to spend ti...</td>\n",
       "      <td>thought wonderful way spend time hot summer ...</td>\n",
       "      <td>0.381513</td>\n",
       "      <td>Positive</td>\n",
       "      <td>0.9647</td>\n",
       "      <td>Positive</td>\n",
       "    </tr>\n",
       "    <tr>\n",
       "      <th>3</th>\n",
       "      <td>Basically there's a family where a little boy ...</td>\n",
       "      <td>basically family little boy jake think zombi...</td>\n",
       "      <td>-0.004167</td>\n",
       "      <td>Negative</td>\n",
       "      <td>-0.8805</td>\n",
       "      <td>Negative</td>\n",
       "    </tr>\n",
       "    <tr>\n",
       "      <th>4</th>\n",
       "      <td>Petter Mattei's \"Love in the Time of Money\" is...</td>\n",
       "      <td>petter mattei love time money visually stunn...</td>\n",
       "      <td>0.229516</td>\n",
       "      <td>Positive</td>\n",
       "      <td>0.9860</td>\n",
       "      <td>Positive</td>\n",
       "    </tr>\n",
       "  </tbody>\n",
       "</table>\n",
       "</div>"
      ],
      "text/plain": [
       "                                              review  \\\n",
       "0  One of the other reviewers has mentioned that ...   \n",
       "1  A wonderful little production. <br /><br />The...   \n",
       "2  I thought this was a wonderful way to spend ti...   \n",
       "3  Basically there's a family where a little boy ...   \n",
       "4  Petter Mattei's \"Love in the Time of Money\" is...   \n",
       "\n",
       "                                               Lemma  Polarity  Analysis  \\\n",
       "0    one reviewer mention watch oz episode hook r...  0.040548  Positive   \n",
       "1    wonderful little production br br filming te...  0.125980  Positive   \n",
       "2    thought wonderful way spend time hot summer ...  0.381513  Positive   \n",
       "3    basically family little boy jake think zombi... -0.004167  Negative   \n",
       "4    petter mattei love time money visually stunn...  0.229516  Positive   \n",
       "\n",
       "   Vader Sentiment Vader Analysis  \n",
       "0          -0.9916       Negative  \n",
       "1           0.9589       Positive  \n",
       "2           0.9647       Positive  \n",
       "3          -0.8805       Negative  \n",
       "4           0.9860       Positive  "
      ]
     },
     "execution_count": 15,
     "metadata": {},
     "output_type": "execute_result"
    }
   ],
   "source": [
    "# function to analyse \n",
    "def vader_analysis(compound):\n",
    "    if compound >= 0.5:\n",
    "        return 'Positive'\n",
    "    elif compound <= -0.5 :\n",
    "        return 'Negative'\n",
    "    else:\n",
    "        return 'Neutral'\n",
    "    \n",
    "fin_data['Vader Analysis'] = fin_data['Vader Sentiment'].apply(vader_analysis)\n",
    "fin_data.head()"
   ]
  },
  {
   "cell_type": "code",
   "execution_count": 16,
   "id": "abb8409c",
   "metadata": {
    "ExecuteTime": {
     "end_time": "2022-06-01T02:45:46.482209Z",
     "start_time": "2022-06-01T02:45:46.463199Z"
    }
   },
   "outputs": [
    {
     "data": {
      "text/plain": [
       "Positive    31738\n",
       "Negative    11993\n",
       "Neutral      6269\n",
       "Name: Vader Analysis, dtype: int64"
      ]
     },
     "execution_count": 16,
     "metadata": {},
     "output_type": "execute_result"
    }
   ],
   "source": [
    "vader_counts = fin_data['Vader Analysis'].value_counts()\n",
    "vader_counts"
   ]
  },
  {
   "cell_type": "code",
   "execution_count": 17,
   "id": "2d595121",
   "metadata": {
    "ExecuteTime": {
     "end_time": "2022-06-01T02:45:47.483924Z",
     "start_time": "2022-06-01T02:45:47.417257Z"
    }
   },
   "outputs": [
    {
     "data": {
      "text/plain": [
       "([<matplotlib.patches.Wedge at 0x244966eb1c0>,\n",
       "  <matplotlib.patches.Wedge at 0x244966eb9a0>,\n",
       "  <matplotlib.patches.Wedge at 0x244966ebfa0>],\n",
       " [Text(-0.49299254795924885, 1.0940559161471812, 'Positive'),\n",
       "  Text(0.03241040882329386, -1.099522426055925, 'Negative'),\n",
       "  Text(1.0157642740872705, -0.42216458815011987, 'Neutral')],\n",
       " [Text(-0.2875789863095618, 0.6381992844191889, '63.5%'),\n",
       "  Text(0.01767840481270574, -0.5997395051214136, '24.0%'),\n",
       "  Text(0.5540532404112385, -0.23027159353642898, '12.5%')])"
      ]
     },
     "execution_count": 17,
     "metadata": {},
     "output_type": "execute_result"
    },
    {
     "data": {
      "image/png": "[encoded data removed]",
      "text/plain": [
       "<Figure size 720x504 with 1 Axes>"
      ]
     },
     "metadata": {},
     "output_type": "display_data"
    }
   ],
   "source": [
    "vader_counts= fin_data['Vader Analysis'].value_counts()\n",
    "plt.figure(figsize=(10, 7))\n",
    "plt.pie(vader_counts.values, labels = vader_counts.index, explode = (0.1, 0, 0), autopct='%1.1f%%', shadow=False)\n",
    "# plt.legend()"
   ]
  },
  {
   "cell_type": "markdown",
   "id": "062f3c76",
   "metadata": {},
   "source": [
    "## Analisis using SentiWordNet"
   ]
  },
  {
   "cell_type": "code",
   "execution_count": 18,
   "id": "fd115a7f",
   "metadata": {
    "ExecuteTime": {
     "end_time": "2022-06-01T02:45:53.008311Z",
     "start_time": "2022-06-01T02:45:52.729349Z"
    }
   },
   "outputs": [
    {
     "name": "stderr",
     "output_type": "stream",
     "text": [
      "[nltk_data] Downloading package sentiwordnet to\n",
      "[nltk_data]     C:\\Users\\Diana\\AppData\\Roaming\\nltk_data...\n",
      "[nltk_data]   Package sentiwordnet is already up-to-date!\n"
     ]
    }
   ],
   "source": [
    "nltk.download('sentiwordnet')\n",
    "from nltk.corpus import sentiwordnet as swn"
   ]
  },
  {
   "cell_type": "code",
   "execution_count": 19,
   "id": "40f26b99",
   "metadata": {
    "ExecuteTime": {
     "end_time": "2022-06-01T02:45:55.923351Z",
     "start_time": "2022-06-01T02:45:55.921350Z"
    }
   },
   "outputs": [],
   "source": [
    "import ast"
   ]
  },
  {
   "cell_type": "code",
   "execution_count": 20,
   "id": "c4985feb",
   "metadata": {
    "ExecuteTime": {
     "end_time": "2022-06-01T02:45:57.924766Z",
     "start_time": "2022-06-01T02:45:57.911757Z"
    }
   },
   "outputs": [],
   "source": [
    "from nltk.stem import WordNetLemmatizer\n",
    "wordnet_lemmatizer = WordNetLemmatizer()\n",
    "from nltk.corpus import wordnet"
   ]
  },
  {
   "cell_type": "code",
   "execution_count": 21,
   "id": "4e45d4ac",
   "metadata": {
    "ExecuteTime": {
     "end_time": "2022-06-01T02:46:31.966748Z",
     "start_time": "2022-06-01T02:46:04.319553Z"
    }
   },
   "outputs": [],
   "source": [
    "tagged['POS tagged']=tagged['POS tagged'].apply(ast.literal_eval)"
   ]
  },
  {
   "cell_type": "code",
   "execution_count": 22,
   "id": "66c37a51",
   "metadata": {
    "ExecuteTime": {
     "end_time": "2022-06-01T02:47:32.970824Z",
     "start_time": "2022-06-01T02:46:31.967749Z"
    }
   },
   "outputs": [
    {
     "data": {
      "text/html": [
       "<div>\n",
       "<style scoped>\n",
       "    .dataframe tbody tr th:only-of-type {\n",
       "        vertical-align: middle;\n",
       "    }\n",
       "\n",
       "    .dataframe tbody tr th {\n",
       "        vertical-align: top;\n",
       "    }\n",
       "\n",
       "    .dataframe thead th {\n",
       "        text-align: right;\n",
       "    }\n",
       "</style>\n",
       "<table border=\"1\" class=\"dataframe\">\n",
       "  <thead>\n",
       "    <tr style=\"text-align: right;\">\n",
       "      <th></th>\n",
       "      <th>review</th>\n",
       "      <th>Lemma</th>\n",
       "      <th>Polarity</th>\n",
       "      <th>Analysis</th>\n",
       "      <th>Vader Sentiment</th>\n",
       "      <th>Vader Analysis</th>\n",
       "      <th>SWN analysis</th>\n",
       "    </tr>\n",
       "  </thead>\n",
       "  <tbody>\n",
       "    <tr>\n",
       "      <th>0</th>\n",
       "      <td>One of the other reviewers has mentioned that ...</td>\n",
       "      <td>one reviewer mention watch oz episode hook r...</td>\n",
       "      <td>0.040548</td>\n",
       "      <td>Positive</td>\n",
       "      <td>-0.9916</td>\n",
       "      <td>Negative</td>\n",
       "      <td>Negative</td>\n",
       "    </tr>\n",
       "    <tr>\n",
       "      <th>1</th>\n",
       "      <td>A wonderful little production. &lt;br /&gt;&lt;br /&gt;The...</td>\n",
       "      <td>wonderful little production br br filming te...</td>\n",
       "      <td>0.125980</td>\n",
       "      <td>Positive</td>\n",
       "      <td>0.9589</td>\n",
       "      <td>Positive</td>\n",
       "      <td>Positive</td>\n",
       "    </tr>\n",
       "    <tr>\n",
       "      <th>2</th>\n",
       "      <td>I thought this was a wonderful way to spend ti...</td>\n",
       "      <td>thought wonderful way spend time hot summer ...</td>\n",
       "      <td>0.381513</td>\n",
       "      <td>Positive</td>\n",
       "      <td>0.9647</td>\n",
       "      <td>Positive</td>\n",
       "      <td>Positive</td>\n",
       "    </tr>\n",
       "    <tr>\n",
       "      <th>3</th>\n",
       "      <td>Basically there's a family where a little boy ...</td>\n",
       "      <td>basically family little boy jake think zombi...</td>\n",
       "      <td>-0.004167</td>\n",
       "      <td>Negative</td>\n",
       "      <td>-0.8805</td>\n",
       "      <td>Negative</td>\n",
       "      <td>Negative</td>\n",
       "    </tr>\n",
       "    <tr>\n",
       "      <th>4</th>\n",
       "      <td>Petter Mattei's \"Love in the Time of Money\" is...</td>\n",
       "      <td>petter mattei love time money visually stunn...</td>\n",
       "      <td>0.229516</td>\n",
       "      <td>Positive</td>\n",
       "      <td>0.9860</td>\n",
       "      <td>Positive</td>\n",
       "      <td>Positive</td>\n",
       "    </tr>\n",
       "  </tbody>\n",
       "</table>\n",
       "</div>"
      ],
      "text/plain": [
       "                                              review  \\\n",
       "0  One of the other reviewers has mentioned that ...   \n",
       "1  A wonderful little production. <br /><br />The...   \n",
       "2  I thought this was a wonderful way to spend ti...   \n",
       "3  Basically there's a family where a little boy ...   \n",
       "4  Petter Mattei's \"Love in the Time of Money\" is...   \n",
       "\n",
       "                                               Lemma  Polarity  Analysis  \\\n",
       "0    one reviewer mention watch oz episode hook r...  0.040548  Positive   \n",
       "1    wonderful little production br br filming te...  0.125980  Positive   \n",
       "2    thought wonderful way spend time hot summer ...  0.381513  Positive   \n",
       "3    basically family little boy jake think zombi... -0.004167  Negative   \n",
       "4    petter mattei love time money visually stunn...  0.229516  Positive   \n",
       "\n",
       "   Vader Sentiment Vader Analysis SWN analysis  \n",
       "0          -0.9916       Negative     Negative  \n",
       "1           0.9589       Positive     Positive  \n",
       "2           0.9647       Positive     Positive  \n",
       "3          -0.8805       Negative     Negative  \n",
       "4           0.9860       Positive     Positive  "
      ]
     },
     "execution_count": 22,
     "metadata": {},
     "output_type": "execute_result"
    }
   ],
   "source": [
    "def sentiwordnetanalysis(pos_data):\n",
    "    sentiment = 0\n",
    "    tokens_count = 0\n",
    "    for word, pos in pos_data:\n",
    "        if not pos:\n",
    "            continue\n",
    "        lemma = wordnet_lemmatizer.lemmatize(word, pos=pos)\n",
    "        if not lemma:\n",
    "            continue\n",
    "        \n",
    "        synsets = wordnet.synsets(lemma, pos=pos)\n",
    "        if not synsets:\n",
    "            continue\n",
    "\n",
    "        # Take the first sense, the most common\n",
    "        synset = synsets[0]\n",
    "        swn_synset = swn.senti_synset(synset.name())\n",
    "        sentiment += swn_synset.pos_score() - swn_synset.neg_score()\n",
    "        tokens_count += 1\n",
    "        # print(swn_synset.pos_score(),swn_synset.neg_score(),swn_synset.obj_score())\n",
    "    if not tokens_count:\n",
    "        return 0\n",
    "    if sentiment>0:\n",
    "        return \"Positive\"\n",
    "    if sentiment==0:\n",
    "        return \"Neutral\"\n",
    "    else:\n",
    "        return \"Negative\"\n",
    "\n",
    "fin_data['SWN analysis'] = tagged['POS tagged'].apply(sentiwordnetanalysis)\n",
    "fin_data.head()\n"
   ]
  },
  {
   "cell_type": "code",
   "execution_count": 23,
   "id": "13082716",
   "metadata": {
    "ExecuteTime": {
     "end_time": "2022-06-01T02:48:15.856533Z",
     "start_time": "2022-06-01T02:48:15.844186Z"
    }
   },
   "outputs": [
    {
     "data": {
      "text/plain": [
       "Positive    35612\n",
       "Negative    13577\n",
       "Neutral       811\n",
       "Name: SWN analysis, dtype: int64"
      ]
     },
     "execution_count": 23,
     "metadata": {},
     "output_type": "execute_result"
    }
   ],
   "source": [
    "swn_counts= fin_data['SWN analysis'].value_counts()\n",
    "swn_counts"
   ]
  },
  {
   "cell_type": "code",
   "execution_count": 24,
   "id": "59568e7a",
   "metadata": {
    "ExecuteTime": {
     "end_time": "2022-06-01T02:48:19.495726Z",
     "start_time": "2022-06-01T02:48:19.434273Z"
    }
   },
   "outputs": [
    {
     "data": {
      "text/plain": [
       "([<matplotlib.patches.Wedge at 0x2451104e130>,\n",
       "  <matplotlib.patches.Wedge at 0x2451104e8b0>,\n",
       "  <matplotlib.patches.Wedge at 0x2451105c0d0>],\n",
       " [Text(-0.7421426847232572, 0.9429868692149198, 'Positive'),\n",
       "  Text(0.6353862458109774, -0.8979333597958327, 'Negative'),\n",
       "  Text(1.098572179115123, -0.056028272097668586, 'Neutral')],\n",
       " [Text(-0.43291656608856666, 0.5500756737087031, '71.2%'),\n",
       "  Text(0.34657431589689675, -0.4897818326159087, '27.2%'),\n",
       "  Text(0.5992211886082488, -0.030560875689637407, '1.6%')])"
      ]
     },
     "execution_count": 24,
     "metadata": {},
     "output_type": "execute_result"
    },
    {
     "data": {
      "image/png": "[encoded data removed]",
      "text/plain": [
       "<Figure size 720x504 with 1 Axes>"
      ]
     },
     "metadata": {},
     "output_type": "display_data"
    }
   ],
   "source": [
    "swn_counts= fin_data['SWN analysis'].value_counts()\n",
    "plt.figure(figsize=(10, 7))\n",
    "plt.pie(swn_counts.values, labels = swn_counts.index, explode = (0.1, 0, 0), autopct='%1.1f%%', shadow=False)"
   ]
  },
  {
   "cell_type": "code",
   "execution_count": 25,
   "id": "53570ba1",
   "metadata": {
    "ExecuteTime": {
     "end_time": "2022-06-01T02:48:22.288182Z",
     "start_time": "2022-06-01T02:48:22.280180Z"
    }
   },
   "outputs": [],
   "source": [
    "import matplotlib.pyplot as plt\n",
    "%matplotlib inline"
   ]
  },
  {
   "cell_type": "code",
   "execution_count": 26,
   "id": "09cf6d83",
   "metadata": {
    "ExecuteTime": {
     "end_time": "2022-06-01T02:48:22.816800Z",
     "start_time": "2022-06-01T02:48:22.684740Z"
    }
   },
   "outputs": [
    {
     "data": {
      "text/plain": [
       "([<matplotlib.patches.Wedge at 0x24511134e20>,\n",
       "  <matplotlib.patches.Wedge at 0x24511142670>,\n",
       "  <matplotlib.patches.Wedge at 0x24511142d90>],\n",
       " [Text(-0.680297460996319, 0.8644046301136765, 'Positive'),\n",
       "  Text(0.6353862458109774, -0.8979333597958327, 'Negative'),\n",
       "  Text(1.34824767436856, -0.06876197030168417, 'Neutral')],\n",
       " [Text(-0.37107134236162853, 0.47149343460745985, '71.2%'),\n",
       "  Text(0.34657431589689675, -0.4897818326159087, '27.2%'),\n",
       "  Text(0.8488966838616858, -0.043294573893652995, '1.6%')])"
      ]
     },
     "execution_count": 26,
     "metadata": {},
     "output_type": "execute_result"
    },
    {
     "data": {
      "image/png": "[encoded data removed]",
      "text/plain": [
       "<Figure size 1080x504 with 3 Axes>"
      ]
     },
     "metadata": {},
     "output_type": "display_data"
    }
   ],
   "source": [
    "plt.figure(figsize=(15,7))\n",
    "plt.subplot(1,3,1)\n",
    "plt.title(\"TextBlob results\")\n",
    "plt.pie(tb_counts.values, labels = tb_counts.index, explode = (0, 0, 0.25), autopct='%1.1f%%', shadow=False)\n",
    "plt.subplot(1,3,2)\n",
    "plt.title(\"VADER results\")\n",
    "plt.pie(vader_counts.values, labels = vader_counts.index, explode = (0, 0, 0.25), autopct='%1.1f%%', shadow=False)\n",
    "plt.subplot(1,3,3)\n",
    "plt.title(\"SentiWordNet results\")\n",
    "plt.pie(swn_counts.values, labels = swn_counts.index, explode = (0, 0, 0.25), autopct='%1.1f%%', shadow=False)"
   ]
  },
  {
   "cell_type": "markdown",
   "id": "d43e9cfe",
   "metadata": {},
   "source": [
    "# Tarea 3 Análisis y predicción de texto"
   ]
  },
  {
   "cell_type": "code",
   "execution_count": 29,
   "id": "670b5deb",
   "metadata": {
    "ExecuteTime": {
     "end_time": "2022-06-01T02:48:59.425722Z",
     "start_time": "2022-06-01T02:48:59.407715Z"
    }
   },
   "outputs": [],
   "source": [
    "from sklearn.feature_selection import SelectFromModel\n",
    "from sklearn.model_selection import train_test_split\n",
    "from sklearn.linear_model import RidgeClassifier\n",
    "from sklearn.pipeline import Pipeline\n",
    "from sklearn.svm import LinearSVC\n",
    "from sklearn.linear_model import SGDClassifier\n",
    "from sklearn.linear_model import Perceptron\n",
    "from sklearn.linear_model import PassiveAggressiveClassifier\n",
    "from sklearn.naive_bayes import BernoulliNB, ComplementNB, MultinomialNB\n",
    "from sklearn.neighbors import KNeighborsClassifier\n",
    "from sklearn.neighbors import NearestCentroid\n",
    "from sklearn.ensemble import RandomForestClassifier"
   ]
  },
  {
   "cell_type": "code",
   "execution_count": 81,
   "id": "38e0683b",
   "metadata": {
    "ExecuteTime": {
     "end_time": "2022-06-01T04:44:59.352681Z",
     "start_time": "2022-06-01T04:44:59.338670Z"
    }
   },
   "outputs": [],
   "source": [
    "from time import time\n",
    "from sklearn.feature_extraction.text import CountVectorizer\n",
    "from sklearn.feature_extraction.text import TfidfTransformer\n",
    "from sklearn.naive_bayes import MultinomialNB\n",
    "from sklearn import metrics\n",
    "from sklearn.utils.extmath import density"
   ]
  },
  {
   "cell_type": "code",
   "execution_count": 62,
   "id": "35a87752",
   "metadata": {
    "ExecuteTime": {
     "end_time": "2022-06-01T04:29:32.186059Z",
     "start_time": "2022-06-01T04:29:32.178057Z"
    }
   },
   "outputs": [],
   "source": [
    "# dividimos el conjunto de datos en los de entrenamiento y prueba\n",
    "X=fin_data['review'].copy()\n",
    "y=fin_data['Analysis'].copy()"
   ]
  },
  {
   "cell_type": "code",
   "execution_count": 63,
   "id": "558035b2",
   "metadata": {
    "ExecuteTime": {
     "end_time": "2022-06-01T04:29:32.766087Z",
     "start_time": "2022-06-01T04:29:32.755991Z"
    }
   },
   "outputs": [],
   "source": [
    "Xt,Xv,yt,yv = train_test_split(X,y,train_size=0.7)"
   ]
  },
  {
   "cell_type": "code",
   "execution_count": 75,
   "id": "9557524a",
   "metadata": {
    "ExecuteTime": {
     "end_time": "2022-06-01T04:42:57.346777Z",
     "start_time": "2022-06-01T04:42:18.193821Z"
    }
   },
   "outputs": [],
   "source": [
    "## transformamos los datos\n",
    "count_vect = CountVectorizer(ngram_range=(1,3),max_features=30)\n",
    "Xt_count = count_vect.fit_transform(Xt)\n",
    "tfidf_transformer = TfidfTransformer()\n",
    "X_train_tfidf = tfidf_transformer.fit_transform(Xt_count)\n",
    "#clf = MultinomialNB().fit(X_train_tfidf, yt)"
   ]
  },
  {
   "cell_type": "code",
   "execution_count": 76,
   "id": "580b819f",
   "metadata": {
    "ExecuteTime": {
     "end_time": "2022-06-01T04:43:14.417591Z",
     "start_time": "2022-06-01T04:42:57.347779Z"
    }
   },
   "outputs": [],
   "source": [
    "Xv_count = count_vect.fit_transform(Xv)\n",
    "tfidf_transformer = TfidfTransformer()\n",
    "X_validate_tfidf = tfidf_transformer.fit_transform(Xv_count)"
   ]
  },
  {
   "cell_type": "code",
   "execution_count": 77,
   "id": "0ca2cdfa",
   "metadata": {
    "ExecuteTime": {
     "end_time": "2022-06-01T04:43:38.472959Z",
     "start_time": "2022-06-01T04:43:38.462764Z"
    }
   },
   "outputs": [
    {
     "data": {
      "text/plain": [
       "(35000, 30)"
      ]
     },
     "execution_count": 77,
     "metadata": {},
     "output_type": "execute_result"
    }
   ],
   "source": [
    "X_train_tfidf.shape"
   ]
  },
  {
   "cell_type": "code",
   "execution_count": 78,
   "id": "e927dd49",
   "metadata": {
    "ExecuteTime": {
     "end_time": "2022-06-01T04:43:39.626084Z",
     "start_time": "2022-06-01T04:43:39.612910Z"
    }
   },
   "outputs": [
    {
     "data": {
      "text/plain": [
       "(15000, 30)"
      ]
     },
     "execution_count": 78,
     "metadata": {},
     "output_type": "execute_result"
    }
   ],
   "source": [
    "X_validate_tfidf.shape"
   ]
  },
  {
   "cell_type": "code",
   "execution_count": 90,
   "id": "a1f6ffbb",
   "metadata": {
    "ExecuteTime": {
     "end_time": "2022-06-02T04:47:31.967762Z",
     "start_time": "2022-06-02T04:47:31.958760Z"
    }
   },
   "outputs": [],
   "source": [
    "def benchmark(clf):\n",
    "    print(\"_\" * 80)\n",
    "    print(\"Training: \")\n",
    "    print(clf)\n",
    "    t0 = time()\n",
    "    clf.fit(X_train_tfidf, yt)\n",
    "    train_time = time() - t0\n",
    "    print(\"train time: %0.3fs\" % train_time)\n",
    "    \n",
    "    # para el entrenamiento\n",
    "    t0 = time()\n",
    "    train = clf.predict(X_train_tfidf)\n",
    "    print(train)\n",
    "    test_time = time() - t0\n",
    "    print(\"train time:  %0.3fs\" % test_time)\n",
    "\n",
    "    score = metrics.accuracy_score(yt, train)\n",
    "    print(\"accuracy train:   %0.3f\" % score)\n",
    "\n",
    "    if hasattr(clf, \"coef_\"):\n",
    "        print(\"dimensionality: %d\" % clf.coef_.shape[1])\n",
    "        print(\"density: %f\" % density(clf.coef_))\n",
    "\n",
    "    print(\"classification report:\")\n",
    "    print(metrics.classification_report(yt, train))\n",
    "\n",
    "    print(\"confusion matrix:\")\n",
    "    print(metrics.confusion_matrix(yt, train))\n",
    "\n",
    "    print()\n",
    "    clf_descr = str(clf).split(\"(\")[0]\n",
    "     \n",
    "# para la prediccion\n",
    "    print('Predicción')\n",
    "    t0 = time()\n",
    "    pred = clf.predict(X_validate_tfidf)\n",
    "    print(pred)\n",
    "    test_time = time() - t0\n",
    "    print(\"test time:  %0.3fs\" % test_time)\n",
    "\n",
    "    score = metrics.accuracy_score(yv, pred)\n",
    "    print(\"accuracy:   %0.3f\" % score)\n",
    "\n",
    "    if hasattr(clf, \"coef_\"):\n",
    "        print(\"dimensionality: %d\" % clf.coef_.shape[1])\n",
    "        print(\"density: %f\" % density(clf.coef_))\n",
    "\n",
    "    print(\"classification report:\")\n",
    "    print(metrics.classification_report(yv, pred))\n",
    "\n",
    "    print(\"confusion matrix:\")\n",
    "    print(metrics.confusion_matrix(yv, pred))\n",
    "\n",
    "    print()\n",
    "    clf_descr = str(clf).split(\"(\")[0]\n",
    "    \n",
    "    return clf_descr, score, train_time, test_time"
   ]
  },
  {
   "cell_type": "code",
   "execution_count": 93,
   "id": "45ff6425",
   "metadata": {
    "ExecuteTime": {
     "end_time": "2022-06-02T21:06:10.229487Z",
     "start_time": "2022-06-02T21:04:12.516028Z"
    }
   },
   "outputs": [
    {
     "name": "stdout",
     "output_type": "stream",
     "text": [
      "================================================================================\n",
      "Ridge Classifier\n",
      "________________________________________________________________________________\n",
      "Training: \n",
      "RidgeClassifier(max_iter=50, solver='sag')\n",
      "train time: 0.133s\n",
      "['Positive' 'Positive' 'Positive' ... 'Positive' 'Positive' 'Positive']\n",
      "train time:  0.005s\n",
      "accuracy train:   0.742\n",
      "dimensionality: 30\n",
      "density: 1.000000\n",
      "classification report:\n"
     ]
    },
    {
     "name": "stderr",
     "output_type": "stream",
     "text": [
      "c:\\users\\diana\\appdata\\local\\programs\\python\\python39\\lib\\site-packages\\sklearn\\metrics\\_classification.py:1318: UndefinedMetricWarning: Precision and F-score are ill-defined and being set to 0.0 in labels with no predicted samples. Use `zero_division` parameter to control this behavior.\n",
      "  _warn_prf(average, modifier, msg_start, len(result))\n",
      "c:\\users\\diana\\appdata\\local\\programs\\python\\python39\\lib\\site-packages\\sklearn\\metrics\\_classification.py:1318: UndefinedMetricWarning: Precision and F-score are ill-defined and being set to 0.0 in labels with no predicted samples. Use `zero_division` parameter to control this behavior.\n",
      "  _warn_prf(average, modifier, msg_start, len(result))\n",
      "c:\\users\\diana\\appdata\\local\\programs\\python\\python39\\lib\\site-packages\\sklearn\\metrics\\_classification.py:1318: UndefinedMetricWarning: Precision and F-score are ill-defined and being set to 0.0 in labels with no predicted samples. Use `zero_division` parameter to control this behavior.\n",
      "  _warn_prf(average, modifier, msg_start, len(result))\n",
      "c:\\users\\diana\\appdata\\local\\programs\\python\\python39\\lib\\site-packages\\sklearn\\metrics\\_classification.py:1318: UndefinedMetricWarning: Precision and F-score are ill-defined and being set to 0.0 in labels with no predicted samples. Use `zero_division` parameter to control this behavior.\n",
      "  _warn_prf(average, modifier, msg_start, len(result))\n",
      "c:\\users\\diana\\appdata\\local\\programs\\python\\python39\\lib\\site-packages\\sklearn\\metrics\\_classification.py:1318: UndefinedMetricWarning: Precision and F-score are ill-defined and being set to 0.0 in labels with no predicted samples. Use `zero_division` parameter to control this behavior.\n",
      "  _warn_prf(average, modifier, msg_start, len(result))\n",
      "c:\\users\\diana\\appdata\\local\\programs\\python\\python39\\lib\\site-packages\\sklearn\\metrics\\_classification.py:1318: UndefinedMetricWarning: Precision and F-score are ill-defined and being set to 0.0 in labels with no predicted samples. Use `zero_division` parameter to control this behavior.\n",
      "  _warn_prf(average, modifier, msg_start, len(result))\n"
     ]
    },
    {
     "name": "stdout",
     "output_type": "stream",
     "text": [
      "              precision    recall  f1-score   support\n",
      "\n",
      "    Negative       0.48      0.01      0.02      9002\n",
      "     Neutral       0.00      0.00      0.00        31\n",
      "    Positive       0.74      1.00      0.85     25967\n",
      "\n",
      "    accuracy                           0.74     35000\n",
      "   macro avg       0.41      0.34      0.29     35000\n",
      "weighted avg       0.68      0.74      0.64     35000\n",
      "\n",
      "confusion matrix:\n",
      "[[   92     0  8910]\n",
      " [    0     0    31]\n",
      " [   98     0 25869]]\n",
      "\n",
      "Predicción\n",
      "['Positive' 'Positive' 'Positive' ... 'Positive' 'Positive' 'Positive']\n",
      "test time:  0.004s\n",
      "accuracy:   0.739\n",
      "dimensionality: 30\n",
      "density: 1.000000\n",
      "classification report:\n",
      "              precision    recall  f1-score   support\n",
      "\n",
      "    Negative       0.45      0.03      0.05      3878\n",
      "     Neutral       0.00      0.00      0.00        13\n",
      "    Positive       0.74      0.99      0.85     11109\n",
      "\n",
      "    accuracy                           0.74     15000\n",
      "   macro avg       0.40      0.34      0.30     15000\n",
      "weighted avg       0.67      0.74      0.64     15000\n",
      "\n",
      "confusion matrix:\n",
      "[[  106     0  3772]\n",
      " [    2     0    11]\n",
      " [  125     0 10984]]\n",
      "\n",
      "================================================================================\n",
      "Perceptron\n",
      "________________________________________________________________________________\n",
      "Training: \n",
      "Perceptron(max_iter=50)\n",
      "train time: 0.077s\n",
      "['Positive' 'Positive' 'Positive' ... 'Positive' 'Positive' 'Positive']\n",
      "train time:  0.004s\n",
      "accuracy train:   0.720\n",
      "dimensionality: 30\n",
      "density: 1.000000\n",
      "classification report:\n",
      "              precision    recall  f1-score   support\n",
      "\n",
      "    Negative       0.31      0.07      0.11      9002\n",
      "     Neutral       0.00      0.00      0.00        31\n",
      "    Positive       0.75      0.95      0.83     25967\n",
      "\n",
      "    accuracy                           0.72     35000\n",
      "   macro avg       0.35      0.34      0.32     35000\n",
      "weighted avg       0.63      0.72      0.65     35000\n",
      "\n",
      "confusion matrix:\n",
      "[[  630     1  8371]\n",
      " [    3     0    28]\n",
      " [ 1392     4 24571]]\n",
      "\n",
      "Predicción\n",
      "['Positive' 'Positive' 'Positive' ... 'Positive' 'Positive' 'Positive']\n",
      "test time:  0.002s\n",
      "accuracy:   0.682\n",
      "dimensionality: 30\n",
      "density: 1.000000\n",
      "classification report:\n",
      "              precision    recall  f1-score   support\n",
      "\n",
      "    Negative       0.24      0.11      0.15      3878\n",
      "     Neutral       0.00      0.00      0.00        13\n",
      "    Positive       0.74      0.88      0.80     11109\n",
      "\n",
      "    accuracy                           0.68     15000\n",
      "   macro avg       0.33      0.33      0.32     15000\n",
      "weighted avg       0.61      0.68      0.63     15000\n",
      "\n",
      "confusion matrix:\n",
      "[[ 420    4 3454]\n",
      " [   2    0   11]\n",
      " [1295    5 9809]]\n",
      "\n",
      "================================================================================\n",
      "Passive-Aggressive\n",
      "________________________________________________________________________________\n",
      "Training: \n",
      "PassiveAggressiveClassifier(max_iter=50)\n",
      "train time: 0.100s\n",
      "['Positive' 'Positive' 'Positive' ... 'Positive' 'Positive' 'Positive']\n",
      "train time:  0.004s\n",
      "accuracy train:   0.718\n",
      "dimensionality: 30\n",
      "density: 1.000000\n",
      "classification report:\n"
     ]
    },
    {
     "name": "stderr",
     "output_type": "stream",
     "text": [
      "c:\\users\\diana\\appdata\\local\\programs\\python\\python39\\lib\\site-packages\\sklearn\\metrics\\_classification.py:1318: UndefinedMetricWarning: Precision and F-score are ill-defined and being set to 0.0 in labels with no predicted samples. Use `zero_division` parameter to control this behavior.\n",
      "  _warn_prf(average, modifier, msg_start, len(result))\n",
      "c:\\users\\diana\\appdata\\local\\programs\\python\\python39\\lib\\site-packages\\sklearn\\metrics\\_classification.py:1318: UndefinedMetricWarning: Precision and F-score are ill-defined and being set to 0.0 in labels with no predicted samples. Use `zero_division` parameter to control this behavior.\n",
      "  _warn_prf(average, modifier, msg_start, len(result))\n",
      "c:\\users\\diana\\appdata\\local\\programs\\python\\python39\\lib\\site-packages\\sklearn\\metrics\\_classification.py:1318: UndefinedMetricWarning: Precision and F-score are ill-defined and being set to 0.0 in labels with no predicted samples. Use `zero_division` parameter to control this behavior.\n",
      "  _warn_prf(average, modifier, msg_start, len(result))\n",
      "c:\\users\\diana\\appdata\\local\\programs\\python\\python39\\lib\\site-packages\\sklearn\\metrics\\_classification.py:1318: UndefinedMetricWarning: Precision and F-score are ill-defined and being set to 0.0 in labels with no predicted samples. Use `zero_division` parameter to control this behavior.\n",
      "  _warn_prf(average, modifier, msg_start, len(result))\n",
      "c:\\users\\diana\\appdata\\local\\programs\\python\\python39\\lib\\site-packages\\sklearn\\metrics\\_classification.py:1318: UndefinedMetricWarning: Precision and F-score are ill-defined and being set to 0.0 in labels with no predicted samples. Use `zero_division` parameter to control this behavior.\n",
      "  _warn_prf(average, modifier, msg_start, len(result))\n"
     ]
    },
    {
     "name": "stdout",
     "output_type": "stream",
     "text": [
      "              precision    recall  f1-score   support\n",
      "\n",
      "    Negative       0.37      0.14      0.20      9002\n",
      "     Neutral       0.00      0.00      0.00        31\n",
      "    Positive       0.75      0.92      0.83     25967\n",
      "\n",
      "    accuracy                           0.72     35000\n",
      "   macro avg       0.38      0.35      0.34     35000\n",
      "weighted avg       0.66      0.72      0.67     35000\n",
      "\n",
      "confusion matrix:\n",
      "[[ 1250     0  7752]\n",
      " [    4     0    27]\n",
      " [ 2080     0 23887]]\n",
      "\n",
      "Predicción\n",
      "['Positive' 'Positive' 'Negative' ... 'Negative' 'Positive' 'Positive']\n",
      "test time:  0.002s\n",
      "accuracy:   0.640\n",
      "dimensionality: 30\n",
      "density: 1.000000\n",
      "classification report:\n"
     ]
    },
    {
     "name": "stderr",
     "output_type": "stream",
     "text": [
      "c:\\users\\diana\\appdata\\local\\programs\\python\\python39\\lib\\site-packages\\sklearn\\metrics\\_classification.py:1318: UndefinedMetricWarning: Precision and F-score are ill-defined and being set to 0.0 in labels with no predicted samples. Use `zero_division` parameter to control this behavior.\n",
      "  _warn_prf(average, modifier, msg_start, len(result))\n"
     ]
    },
    {
     "name": "stdout",
     "output_type": "stream",
     "text": [
      "              precision    recall  f1-score   support\n",
      "\n",
      "    Negative       0.30      0.29      0.30      3878\n",
      "     Neutral       0.00      0.00      0.00        13\n",
      "    Positive       0.75      0.76      0.76     11109\n",
      "\n",
      "    accuracy                           0.64     15000\n",
      "   macro avg       0.35      0.35      0.35     15000\n",
      "weighted avg       0.64      0.64      0.64     15000\n",
      "\n",
      "confusion matrix:\n",
      "[[1138    0 2740]\n",
      " [   5    0    8]\n",
      " [2643    0 8466]]\n",
      "\n",
      "================================================================================\n",
      "kNN\n",
      "________________________________________________________________________________\n",
      "Training: \n",
      "KNeighborsClassifier(n_neighbors=10, weights='distance')\n",
      "train time: 0.021s\n",
      "['Negative' 'Negative' 'Positive' ... 'Negative' 'Negative' 'Positive']\n",
      "train time:  54.173s\n",
      "accuracy train:   1.000\n",
      "classification report:\n",
      "              precision    recall  f1-score   support\n",
      "\n",
      "    Negative       1.00      1.00      1.00      9002\n",
      "     Neutral       1.00      1.00      1.00        31\n",
      "    Positive       1.00      1.00      1.00     25967\n",
      "\n",
      "    accuracy                           1.00     35000\n",
      "   macro avg       1.00      1.00      1.00     35000\n",
      "weighted avg       1.00      1.00      1.00     35000\n",
      "\n",
      "confusion matrix:\n",
      "[[ 9002     0     0]\n",
      " [    0    31     0]\n",
      " [    0     0 25967]]\n",
      "\n",
      "Predicción\n",
      "['Positive' 'Positive' 'Positive' ... 'Positive' 'Positive' 'Positive']\n",
      "test time:  24.886s\n",
      "accuracy:   0.703\n",
      "classification report:\n"
     ]
    },
    {
     "name": "stderr",
     "output_type": "stream",
     "text": [
      "c:\\users\\diana\\appdata\\local\\programs\\python\\python39\\lib\\site-packages\\sklearn\\metrics\\_classification.py:1318: UndefinedMetricWarning: Precision and F-score are ill-defined and being set to 0.0 in labels with no predicted samples. Use `zero_division` parameter to control this behavior.\n",
      "  _warn_prf(average, modifier, msg_start, len(result))\n",
      "c:\\users\\diana\\appdata\\local\\programs\\python\\python39\\lib\\site-packages\\sklearn\\metrics\\_classification.py:1318: UndefinedMetricWarning: Precision and F-score are ill-defined and being set to 0.0 in labels with no predicted samples. Use `zero_division` parameter to control this behavior.\n",
      "  _warn_prf(average, modifier, msg_start, len(result))\n",
      "c:\\users\\diana\\appdata\\local\\programs\\python\\python39\\lib\\site-packages\\sklearn\\metrics\\_classification.py:1318: UndefinedMetricWarning: Precision and F-score are ill-defined and being set to 0.0 in labels with no predicted samples. Use `zero_division` parameter to control this behavior.\n",
      "  _warn_prf(average, modifier, msg_start, len(result))\n"
     ]
    },
    {
     "name": "stdout",
     "output_type": "stream",
     "text": [
      "              precision    recall  f1-score   support\n",
      "\n",
      "    Negative       0.32      0.13      0.18      3878\n",
      "     Neutral       0.00      0.00      0.00        13\n",
      "    Positive       0.75      0.90      0.82     11109\n",
      "\n",
      "    accuracy                           0.70     15000\n",
      "   macro avg       0.36      0.34      0.33     15000\n",
      "weighted avg       0.64      0.70      0.65     15000\n",
      "\n",
      "confusion matrix:\n",
      "[[  500     0  3378]\n",
      " [    3     0    10]\n",
      " [ 1063     0 10046]]\n",
      "\n",
      "================================================================================\n",
      "Random forest\n",
      "________________________________________________________________________________\n",
      "Training: \n",
      "RandomForestClassifier(max_depth=15, n_estimators=50)\n",
      "train time: 16.764s\n",
      "['Negative' 'Negative' 'Positive' ... 'Positive' 'Negative' 'Positive']\n",
      "train time:  0.268s\n",
      "accuracy train:   0.876\n",
      "classification report:\n",
      "              precision    recall  f1-score   support\n",
      "\n",
      "    Negative       1.00      0.52      0.69      9002\n",
      "     Neutral       1.00      0.16      0.28        31\n",
      "    Positive       0.86      1.00      0.92     25967\n",
      "\n",
      "    accuracy                           0.88     35000\n",
      "   macro avg       0.95      0.56      0.63     35000\n",
      "weighted avg       0.89      0.88      0.86     35000\n",
      "\n",
      "confusion matrix:\n",
      "[[ 4691     0  4311]\n",
      " [    0     5    26]\n",
      " [    0     0 25967]]\n",
      "\n",
      "Predicción\n",
      "['Positive' 'Positive' 'Positive' ... 'Positive' 'Positive' 'Positive']\n",
      "test time:  0.118s\n",
      "accuracy:   0.740\n",
      "classification report:\n",
      "              precision    recall  f1-score   support\n",
      "\n",
      "    Negative       0.47      0.03      0.05      3878\n",
      "     Neutral       0.00      0.00      0.00        13\n",
      "    Positive       0.74      0.99      0.85     11109\n",
      "\n",
      "    accuracy                           0.74     15000\n",
      "   macro avg       0.41      0.34      0.30     15000\n",
      "weighted avg       0.67      0.74      0.64     15000\n",
      "\n",
      "confusion matrix:\n",
      "[[   99     0  3779]\n",
      " [    2     0    11]\n",
      " [  109     0 11000]]"
     ]
    },
    {
     "name": "stderr",
     "output_type": "stream",
     "text": [
      "c:\\users\\diana\\appdata\\local\\programs\\python\\python39\\lib\\site-packages\\sklearn\\metrics\\_classification.py:1318: UndefinedMetricWarning: Precision and F-score are ill-defined and being set to 0.0 in labels with no predicted samples. Use `zero_division` parameter to control this behavior.\n",
      "  _warn_prf(average, modifier, msg_start, len(result))\n",
      "c:\\users\\diana\\appdata\\local\\programs\\python\\python39\\lib\\site-packages\\sklearn\\metrics\\_classification.py:1318: UndefinedMetricWarning: Precision and F-score are ill-defined and being set to 0.0 in labels with no predicted samples. Use `zero_division` parameter to control this behavior.\n",
      "  _warn_prf(average, modifier, msg_start, len(result))\n",
      "c:\\users\\diana\\appdata\\local\\programs\\python\\python39\\lib\\site-packages\\sklearn\\metrics\\_classification.py:1318: UndefinedMetricWarning: Precision and F-score are ill-defined and being set to 0.0 in labels with no predicted samples. Use `zero_division` parameter to control this behavior.\n",
      "  _warn_prf(average, modifier, msg_start, len(result))\n"
     ]
    },
    {
     "name": "stdout",
     "output_type": "stream",
     "text": [
      "\n",
      "\n",
      "================================================================================\n",
      "L2 penalty\n",
      "________________________________________________________________________________\n",
      "Training: \n",
      "LinearSVC(dual=False, tol=0.001)\n",
      "train time: 0.156s\n",
      "['Positive' 'Positive' 'Positive' ... 'Positive' 'Positive' 'Positive']\n",
      "train time:  0.004s\n",
      "accuracy train:   0.742\n",
      "dimensionality: 30\n",
      "density: 1.000000\n",
      "classification report:\n"
     ]
    },
    {
     "name": "stderr",
     "output_type": "stream",
     "text": [
      "c:\\users\\diana\\appdata\\local\\programs\\python\\python39\\lib\\site-packages\\sklearn\\metrics\\_classification.py:1318: UndefinedMetricWarning: Precision and F-score are ill-defined and being set to 0.0 in labels with no predicted samples. Use `zero_division` parameter to control this behavior.\n",
      "  _warn_prf(average, modifier, msg_start, len(result))\n",
      "c:\\users\\diana\\appdata\\local\\programs\\python\\python39\\lib\\site-packages\\sklearn\\metrics\\_classification.py:1318: UndefinedMetricWarning: Precision and F-score are ill-defined and being set to 0.0 in labels with no predicted samples. Use `zero_division` parameter to control this behavior.\n",
      "  _warn_prf(average, modifier, msg_start, len(result))\n",
      "c:\\users\\diana\\appdata\\local\\programs\\python\\python39\\lib\\site-packages\\sklearn\\metrics\\_classification.py:1318: UndefinedMetricWarning: Precision and F-score are ill-defined and being set to 0.0 in labels with no predicted samples. Use `zero_division` parameter to control this behavior.\n",
      "  _warn_prf(average, modifier, msg_start, len(result))\n"
     ]
    },
    {
     "name": "stdout",
     "output_type": "stream",
     "text": [
      "              precision    recall  f1-score   support\n",
      "\n",
      "    Negative       0.49      0.01      0.02      9002\n",
      "     Neutral       0.00      0.00      0.00        31\n",
      "    Positive       0.74      1.00      0.85     25967\n",
      "\n",
      "    accuracy                           0.74     35000\n",
      "   macro avg       0.41      0.34      0.29     35000\n",
      "weighted avg       0.68      0.74      0.64     35000\n",
      "\n",
      "confusion matrix:\n",
      "[[   93     0  8909]\n",
      " [    0     0    31]\n",
      " [   98     0 25869]]\n",
      "\n",
      "Predicción\n",
      "['Positive' 'Positive' 'Positive' ... 'Positive' 'Positive' 'Positive']\n",
      "test time:  0.002s\n",
      "accuracy:   0.739\n",
      "dimensionality: 30\n",
      "density: 1.000000\n",
      "classification report:\n"
     ]
    },
    {
     "name": "stderr",
     "output_type": "stream",
     "text": [
      "c:\\users\\diana\\appdata\\local\\programs\\python\\python39\\lib\\site-packages\\sklearn\\metrics\\_classification.py:1318: UndefinedMetricWarning: Precision and F-score are ill-defined and being set to 0.0 in labels with no predicted samples. Use `zero_division` parameter to control this behavior.\n",
      "  _warn_prf(average, modifier, msg_start, len(result))\n",
      "c:\\users\\diana\\appdata\\local\\programs\\python\\python39\\lib\\site-packages\\sklearn\\metrics\\_classification.py:1318: UndefinedMetricWarning: Precision and F-score are ill-defined and being set to 0.0 in labels with no predicted samples. Use `zero_division` parameter to control this behavior.\n",
      "  _warn_prf(average, modifier, msg_start, len(result))\n",
      "c:\\users\\diana\\appdata\\local\\programs\\python\\python39\\lib\\site-packages\\sklearn\\metrics\\_classification.py:1318: UndefinedMetricWarning: Precision and F-score are ill-defined and being set to 0.0 in labels with no predicted samples. Use `zero_division` parameter to control this behavior.\n",
      "  _warn_prf(average, modifier, msg_start, len(result))\n"
     ]
    },
    {
     "name": "stdout",
     "output_type": "stream",
     "text": [
      "              precision    recall  f1-score   support\n",
      "\n",
      "    Negative       0.45      0.03      0.05      3878\n",
      "     Neutral       0.00      0.00      0.00        13\n",
      "    Positive       0.74      0.99      0.85     11109\n",
      "\n",
      "    accuracy                           0.74     15000\n",
      "   macro avg       0.40      0.34      0.30     15000\n",
      "weighted avg       0.67      0.74      0.64     15000\n",
      "\n",
      "confusion matrix:\n",
      "[[  106     0  3772]\n",
      " [    2     0    11]\n",
      " [  125     0 10984]]\n",
      "\n",
      "________________________________________________________________________________\n",
      "Training: \n",
      "SGDClassifier(max_iter=50)\n",
      "train time: 0.119s\n",
      "['Positive' 'Positive' 'Positive' ... 'Positive' 'Positive' 'Positive']\n",
      "train time:  0.003s\n",
      "accuracy train:   0.742\n",
      "dimensionality: 30\n",
      "density: 1.000000\n",
      "classification report:\n"
     ]
    },
    {
     "name": "stderr",
     "output_type": "stream",
     "text": [
      "c:\\users\\diana\\appdata\\local\\programs\\python\\python39\\lib\\site-packages\\sklearn\\metrics\\_classification.py:1318: UndefinedMetricWarning: Precision and F-score are ill-defined and being set to 0.0 in labels with no predicted samples. Use `zero_division` parameter to control this behavior.\n",
      "  _warn_prf(average, modifier, msg_start, len(result))\n",
      "c:\\users\\diana\\appdata\\local\\programs\\python\\python39\\lib\\site-packages\\sklearn\\metrics\\_classification.py:1318: UndefinedMetricWarning: Precision and F-score are ill-defined and being set to 0.0 in labels with no predicted samples. Use `zero_division` parameter to control this behavior.\n",
      "  _warn_prf(average, modifier, msg_start, len(result))\n",
      "c:\\users\\diana\\appdata\\local\\programs\\python\\python39\\lib\\site-packages\\sklearn\\metrics\\_classification.py:1318: UndefinedMetricWarning: Precision and F-score are ill-defined and being set to 0.0 in labels with no predicted samples. Use `zero_division` parameter to control this behavior.\n",
      "  _warn_prf(average, modifier, msg_start, len(result))\n",
      "c:\\users\\diana\\appdata\\local\\programs\\python\\python39\\lib\\site-packages\\sklearn\\metrics\\_classification.py:1318: UndefinedMetricWarning: Precision and F-score are ill-defined and being set to 0.0 in labels with no predicted samples. Use `zero_division` parameter to control this behavior.\n",
      "  _warn_prf(average, modifier, msg_start, len(result))\n",
      "c:\\users\\diana\\appdata\\local\\programs\\python\\python39\\lib\\site-packages\\sklearn\\metrics\\_classification.py:1318: UndefinedMetricWarning: Precision and F-score are ill-defined and being set to 0.0 in labels with no predicted samples. Use `zero_division` parameter to control this behavior.\n",
      "  _warn_prf(average, modifier, msg_start, len(result))\n",
      "c:\\users\\diana\\appdata\\local\\programs\\python\\python39\\lib\\site-packages\\sklearn\\metrics\\_classification.py:1318: UndefinedMetricWarning: Precision and F-score are ill-defined and being set to 0.0 in labels with no predicted samples. Use `zero_division` parameter to control this behavior.\n",
      "  _warn_prf(average, modifier, msg_start, len(result))\n"
     ]
    },
    {
     "name": "stdout",
     "output_type": "stream",
     "text": [
      "              precision    recall  f1-score   support\n",
      "\n",
      "    Negative       0.00      0.00      0.00      9002\n",
      "     Neutral       0.00      0.00      0.00        31\n",
      "    Positive       0.74      1.00      0.85     25967\n",
      "\n",
      "    accuracy                           0.74     35000\n",
      "   macro avg       0.25      0.33      0.28     35000\n",
      "weighted avg       0.55      0.74      0.63     35000\n",
      "\n",
      "confusion matrix:\n",
      "[[    0     0  9002]\n",
      " [    0     0    31]\n",
      " [    0     0 25967]]\n",
      "\n",
      "Predicción\n",
      "['Positive' 'Positive' 'Positive' ... 'Positive' 'Positive' 'Positive']\n",
      "test time:  0.002s\n",
      "accuracy:   0.741\n",
      "dimensionality: 30\n",
      "density: 1.000000\n",
      "classification report:\n",
      "              precision    recall  f1-score   support\n",
      "\n",
      "    Negative       0.00      0.00      0.00      3878\n",
      "     Neutral       0.00      0.00      0.00        13\n",
      "    Positive       0.74      1.00      0.85     11109\n",
      "\n",
      "    accuracy                           0.74     15000\n",
      "   macro avg       0.25      0.33      0.28     15000\n",
      "weighted avg       0.55      0.74      0.63     15000\n",
      "\n",
      "confusion matrix:\n",
      "[[    0     0  3878]\n",
      " [    0     0    13]\n",
      " [    0     0 11109]]\n",
      "\n",
      "================================================================================\n",
      "L1 penalty\n",
      "________________________________________________________________________________\n",
      "Training: \n",
      "LinearSVC(dual=False, penalty='l1', tol=0.001)\n"
     ]
    },
    {
     "name": "stderr",
     "output_type": "stream",
     "text": [
      "c:\\users\\diana\\appdata\\local\\programs\\python\\python39\\lib\\site-packages\\sklearn\\svm\\_base.py:1206: ConvergenceWarning: Liblinear failed to converge, increase the number of iterations.\n",
      "  warnings.warn(\n",
      "c:\\users\\diana\\appdata\\local\\programs\\python\\python39\\lib\\site-packages\\sklearn\\metrics\\_classification.py:1318: UndefinedMetricWarning: Precision and F-score are ill-defined and being set to 0.0 in labels with no predicted samples. Use `zero_division` parameter to control this behavior.\n",
      "  _warn_prf(average, modifier, msg_start, len(result))\n"
     ]
    },
    {
     "name": "stdout",
     "output_type": "stream",
     "text": [
      "train time: 5.075s\n",
      "['Positive' 'Positive' 'Positive' ... 'Positive' 'Positive' 'Positive']\n",
      "train time:  0.004s\n",
      "accuracy train:   0.742\n",
      "dimensionality: 30\n",
      "density: 0.922222\n",
      "classification report:\n"
     ]
    },
    {
     "name": "stderr",
     "output_type": "stream",
     "text": [
      "c:\\users\\diana\\appdata\\local\\programs\\python\\python39\\lib\\site-packages\\sklearn\\metrics\\_classification.py:1318: UndefinedMetricWarning: Precision and F-score are ill-defined and being set to 0.0 in labels with no predicted samples. Use `zero_division` parameter to control this behavior.\n",
      "  _warn_prf(average, modifier, msg_start, len(result))\n",
      "c:\\users\\diana\\appdata\\local\\programs\\python\\python39\\lib\\site-packages\\sklearn\\metrics\\_classification.py:1318: UndefinedMetricWarning: Precision and F-score are ill-defined and being set to 0.0 in labels with no predicted samples. Use `zero_division` parameter to control this behavior.\n",
      "  _warn_prf(average, modifier, msg_start, len(result))\n"
     ]
    },
    {
     "name": "stdout",
     "output_type": "stream",
     "text": [
      "              precision    recall  f1-score   support\n",
      "\n",
      "    Negative       0.48      0.01      0.02      9002\n",
      "     Neutral       0.00      0.00      0.00        31\n",
      "    Positive       0.74      1.00      0.85     25967\n",
      "\n",
      "    accuracy                           0.74     35000\n",
      "   macro avg       0.41      0.34      0.29     35000\n",
      "weighted avg       0.68      0.74      0.64     35000\n",
      "\n",
      "confusion matrix:\n",
      "[[   91     0  8911]\n",
      " [    0     0    31]\n",
      " [   98     0 25869]]\n",
      "\n",
      "Predicción\n",
      "['Positive' 'Positive' 'Positive' ... 'Positive' 'Positive' 'Positive']\n",
      "test time:  0.002s\n",
      "accuracy:   0.739\n",
      "dimensionality: 30\n",
      "density: 0.922222\n",
      "classification report:\n"
     ]
    },
    {
     "name": "stderr",
     "output_type": "stream",
     "text": [
      "c:\\users\\diana\\appdata\\local\\programs\\python\\python39\\lib\\site-packages\\sklearn\\metrics\\_classification.py:1318: UndefinedMetricWarning: Precision and F-score are ill-defined and being set to 0.0 in labels with no predicted samples. Use `zero_division` parameter to control this behavior.\n",
      "  _warn_prf(average, modifier, msg_start, len(result))\n",
      "c:\\users\\diana\\appdata\\local\\programs\\python\\python39\\lib\\site-packages\\sklearn\\metrics\\_classification.py:1318: UndefinedMetricWarning: Precision and F-score are ill-defined and being set to 0.0 in labels with no predicted samples. Use `zero_division` parameter to control this behavior.\n",
      "  _warn_prf(average, modifier, msg_start, len(result))\n",
      "c:\\users\\diana\\appdata\\local\\programs\\python\\python39\\lib\\site-packages\\sklearn\\metrics\\_classification.py:1318: UndefinedMetricWarning: Precision and F-score are ill-defined and being set to 0.0 in labels with no predicted samples. Use `zero_division` parameter to control this behavior.\n",
      "  _warn_prf(average, modifier, msg_start, len(result))\n"
     ]
    },
    {
     "name": "stdout",
     "output_type": "stream",
     "text": [
      "              precision    recall  f1-score   support\n",
      "\n",
      "    Negative       0.45      0.03      0.05      3878\n",
      "     Neutral       0.00      0.00      0.00        13\n",
      "    Positive       0.74      0.99      0.85     11109\n",
      "\n",
      "    accuracy                           0.74     15000\n",
      "   macro avg       0.40      0.34      0.30     15000\n",
      "weighted avg       0.67      0.74      0.64     15000\n",
      "\n",
      "confusion matrix:\n",
      "[[  106     0  3772]\n",
      " [    2     0    11]\n",
      " [  126     0 10983]]\n",
      "\n",
      "________________________________________________________________________________\n",
      "Training: \n",
      "SGDClassifier(max_iter=50, penalty='l1')\n",
      "train time: 0.217s\n",
      "['Positive' 'Positive' 'Positive' ... 'Positive' 'Positive' 'Positive']\n",
      "train time:  0.004s\n",
      "accuracy train:   0.742\n",
      "dimensionality: 30\n",
      "density: 0.422222\n",
      "classification report:\n"
     ]
    },
    {
     "name": "stderr",
     "output_type": "stream",
     "text": [
      "c:\\users\\diana\\appdata\\local\\programs\\python\\python39\\lib\\site-packages\\sklearn\\metrics\\_classification.py:1318: UndefinedMetricWarning: Precision and F-score are ill-defined and being set to 0.0 in labels with no predicted samples. Use `zero_division` parameter to control this behavior.\n",
      "  _warn_prf(average, modifier, msg_start, len(result))\n",
      "c:\\users\\diana\\appdata\\local\\programs\\python\\python39\\lib\\site-packages\\sklearn\\metrics\\_classification.py:1318: UndefinedMetricWarning: Precision and F-score are ill-defined and being set to 0.0 in labels with no predicted samples. Use `zero_division` parameter to control this behavior.\n",
      "  _warn_prf(average, modifier, msg_start, len(result))\n",
      "c:\\users\\diana\\appdata\\local\\programs\\python\\python39\\lib\\site-packages\\sklearn\\metrics\\_classification.py:1318: UndefinedMetricWarning: Precision and F-score are ill-defined and being set to 0.0 in labels with no predicted samples. Use `zero_division` parameter to control this behavior.\n",
      "  _warn_prf(average, modifier, msg_start, len(result))\n",
      "c:\\users\\diana\\appdata\\local\\programs\\python\\python39\\lib\\site-packages\\sklearn\\metrics\\_classification.py:1318: UndefinedMetricWarning: Precision and F-score are ill-defined and being set to 0.0 in labels with no predicted samples. Use `zero_division` parameter to control this behavior.\n",
      "  _warn_prf(average, modifier, msg_start, len(result))\n",
      "c:\\users\\diana\\appdata\\local\\programs\\python\\python39\\lib\\site-packages\\sklearn\\metrics\\_classification.py:1318: UndefinedMetricWarning: Precision and F-score are ill-defined and being set to 0.0 in labels with no predicted samples. Use `zero_division` parameter to control this behavior.\n",
      "  _warn_prf(average, modifier, msg_start, len(result))\n",
      "c:\\users\\diana\\appdata\\local\\programs\\python\\python39\\lib\\site-packages\\sklearn\\metrics\\_classification.py:1318: UndefinedMetricWarning: Precision and F-score are ill-defined and being set to 0.0 in labels with no predicted samples. Use `zero_division` parameter to control this behavior.\n",
      "  _warn_prf(average, modifier, msg_start, len(result))\n"
     ]
    },
    {
     "name": "stdout",
     "output_type": "stream",
     "text": [
      "              precision    recall  f1-score   support\n",
      "\n",
      "    Negative       0.00      0.00      0.00      9002\n",
      "     Neutral       0.00      0.00      0.00        31\n",
      "    Positive       0.74      1.00      0.85     25967\n",
      "\n",
      "    accuracy                           0.74     35000\n",
      "   macro avg       0.25      0.33      0.28     35000\n",
      "weighted avg       0.55      0.74      0.63     35000\n",
      "\n",
      "confusion matrix:\n",
      "[[    0     0  9002]\n",
      " [    0     0    31]\n",
      " [    0     0 25967]]\n",
      "\n",
      "Predicción\n",
      "['Positive' 'Positive' 'Positive' ... 'Positive' 'Positive' 'Positive']\n",
      "test time:  0.003s\n",
      "accuracy:   0.741\n",
      "dimensionality: 30\n",
      "density: 0.422222\n",
      "classification report:\n",
      "              precision    recall  f1-score   support\n",
      "\n",
      "    Negative       0.00      0.00      0.00      3878\n",
      "     Neutral       0.00      0.00      0.00        13\n",
      "    Positive       0.74      1.00      0.85     11109\n",
      "\n",
      "    accuracy                           0.74     15000\n",
      "   macro avg       0.25      0.33      0.28     15000\n",
      "weighted avg       0.55      0.74      0.63     15000\n",
      "\n",
      "confusion matrix:\n",
      "[[    0     0  3878]\n",
      " [    0     0    13]\n",
      " [    0     0 11109]]\n",
      "\n",
      "================================================================================\n",
      "Elastic-Net penalty\n",
      "________________________________________________________________________________\n",
      "Training: \n",
      "SGDClassifier(max_iter=50, penalty='elasticnet')\n",
      "train time: 0.214s\n",
      "['Positive' 'Positive' 'Positive' ... 'Positive' 'Positive' 'Positive']\n",
      "train time:  0.004s\n",
      "accuracy train:   0.742\n",
      "dimensionality: 30\n",
      "density: 0.477778\n",
      "classification report:\n"
     ]
    },
    {
     "name": "stderr",
     "output_type": "stream",
     "text": [
      "c:\\users\\diana\\appdata\\local\\programs\\python\\python39\\lib\\site-packages\\sklearn\\metrics\\_classification.py:1318: UndefinedMetricWarning: Precision and F-score are ill-defined and being set to 0.0 in labels with no predicted samples. Use `zero_division` parameter to control this behavior.\n",
      "  _warn_prf(average, modifier, msg_start, len(result))\n",
      "c:\\users\\diana\\appdata\\local\\programs\\python\\python39\\lib\\site-packages\\sklearn\\metrics\\_classification.py:1318: UndefinedMetricWarning: Precision and F-score are ill-defined and being set to 0.0 in labels with no predicted samples. Use `zero_division` parameter to control this behavior.\n",
      "  _warn_prf(average, modifier, msg_start, len(result))\n",
      "c:\\users\\diana\\appdata\\local\\programs\\python\\python39\\lib\\site-packages\\sklearn\\metrics\\_classification.py:1318: UndefinedMetricWarning: Precision and F-score are ill-defined and being set to 0.0 in labels with no predicted samples. Use `zero_division` parameter to control this behavior.\n",
      "  _warn_prf(average, modifier, msg_start, len(result))\n",
      "c:\\users\\diana\\appdata\\local\\programs\\python\\python39\\lib\\site-packages\\sklearn\\metrics\\_classification.py:1318: UndefinedMetricWarning: Precision and F-score are ill-defined and being set to 0.0 in labels with no predicted samples. Use `zero_division` parameter to control this behavior.\n",
      "  _warn_prf(average, modifier, msg_start, len(result))\n",
      "c:\\users\\diana\\appdata\\local\\programs\\python\\python39\\lib\\site-packages\\sklearn\\metrics\\_classification.py:1318: UndefinedMetricWarning: Precision and F-score are ill-defined and being set to 0.0 in labels with no predicted samples. Use `zero_division` parameter to control this behavior.\n",
      "  _warn_prf(average, modifier, msg_start, len(result))\n",
      "c:\\users\\diana\\appdata\\local\\programs\\python\\python39\\lib\\site-packages\\sklearn\\metrics\\_classification.py:1318: UndefinedMetricWarning: Precision and F-score are ill-defined and being set to 0.0 in labels with no predicted samples. Use `zero_division` parameter to control this behavior.\n",
      "  _warn_prf(average, modifier, msg_start, len(result))\n"
     ]
    },
    {
     "name": "stdout",
     "output_type": "stream",
     "text": [
      "              precision    recall  f1-score   support\n",
      "\n",
      "    Negative       0.00      0.00      0.00      9002\n",
      "     Neutral       0.00      0.00      0.00        31\n",
      "    Positive       0.74      1.00      0.85     25967\n",
      "\n",
      "    accuracy                           0.74     35000\n",
      "   macro avg       0.25      0.33      0.28     35000\n",
      "weighted avg       0.55      0.74      0.63     35000\n",
      "\n",
      "confusion matrix:\n",
      "[[    0     0  9002]\n",
      " [    0     0    31]\n",
      " [    0     0 25967]]\n",
      "\n",
      "Predicción\n",
      "['Positive' 'Positive' 'Positive' ... 'Positive' 'Positive' 'Positive']\n",
      "test time:  0.002s\n",
      "accuracy:   0.741\n",
      "dimensionality: 30\n",
      "density: 0.477778\n",
      "classification report:\n",
      "              precision    recall  f1-score   support\n",
      "\n",
      "    Negative       0.00      0.00      0.00      3878\n",
      "     Neutral       0.00      0.00      0.00        13\n",
      "    Positive       0.74      1.00      0.85     11109\n",
      "\n",
      "    accuracy                           0.74     15000\n",
      "   macro avg       0.25      0.33      0.28     15000\n",
      "weighted avg       0.55      0.74      0.63     15000\n",
      "\n",
      "confusion matrix:\n",
      "[[    0     0  3878]\n",
      " [    0     0    13]\n",
      " [    0     0 11109]]\n",
      "\n",
      "================================================================================\n",
      "NearestCentroid (aka Rocchio classifier)\n",
      "________________________________________________________________________________\n",
      "Training: \n",
      "NearestCentroid()\n",
      "train time: 0.025s\n",
      "['Negative' 'Neutral' 'Positive' ... 'Positive' 'Positive' 'Positive']\n",
      "train time:  0.006s\n",
      "accuracy train:   0.538\n",
      "classification report:\n",
      "              precision    recall  f1-score   support\n",
      "\n",
      "    Negative       0.32      0.37      0.34      9002\n",
      "     Neutral       0.00      0.65      0.01        31\n",
      "    Positive       0.80      0.60      0.68     25967\n",
      "\n",
      "    accuracy                           0.54     35000\n",
      "   macro avg       0.37      0.54      0.34     35000\n",
      "weighted avg       0.67      0.54      0.59     35000\n",
      "\n",
      "confusion matrix:\n",
      "[[ 3314  1731  3957]\n",
      " [    3    20     8]\n",
      " [ 7065  3405 15497]]\n",
      "\n",
      "Predicción\n",
      "['Negative' 'Positive' 'Negative' ... 'Neutral' 'Positive' 'Positive']\n",
      "test time:  0.002s\n",
      "accuracy:   0.400\n",
      "classification report:\n",
      "              precision    recall  f1-score   support\n",
      "\n",
      "    Negative       0.27      0.46      0.34      3878\n",
      "     Neutral       0.00      0.69      0.01        13\n",
      "    Positive       0.80      0.38      0.51     11109\n",
      "\n",
      "    accuracy                           0.40     15000\n",
      "   macro avg       0.36      0.51      0.29     15000\n",
      "weighted avg       0.66      0.40      0.47     15000\n",
      "\n",
      "confusion matrix:\n",
      "[[1800 1028 1050]\n",
      " [   3    9    1]\n",
      " [4790 2132 4187]]\n",
      "\n",
      "================================================================================\n",
      "Naive Bayes\n",
      "________________________________________________________________________________\n",
      "Training: \n",
      "MultinomialNB(alpha=0.01)\n",
      "train time: 0.050s\n",
      "['Positive' 'Positive' 'Positive' ... 'Positive' 'Positive' 'Positive']\n",
      "train time:  0.004s\n",
      "accuracy train:   0.742\n",
      "dimensionality: 30\n",
      "density: 1.000000\n",
      "classification report:\n"
     ]
    },
    {
     "name": "stderr",
     "output_type": "stream",
     "text": [
      "c:\\users\\diana\\appdata\\local\\programs\\python\\python39\\lib\\site-packages\\sklearn\\utils\\deprecation.py:103: FutureWarning: Attribute `coef_` was deprecated in version 0.24 and will be removed in 1.1 (renaming of 0.26).\n",
      "  warnings.warn(msg, category=FutureWarning)\n",
      "c:\\users\\diana\\appdata\\local\\programs\\python\\python39\\lib\\site-packages\\sklearn\\metrics\\_classification.py:1318: UndefinedMetricWarning: Precision and F-score are ill-defined and being set to 0.0 in labels with no predicted samples. Use `zero_division` parameter to control this behavior.\n",
      "  _warn_prf(average, modifier, msg_start, len(result))\n",
      "c:\\users\\diana\\appdata\\local\\programs\\python\\python39\\lib\\site-packages\\sklearn\\metrics\\_classification.py:1318: UndefinedMetricWarning: Precision and F-score are ill-defined and being set to 0.0 in labels with no predicted samples. Use `zero_division` parameter to control this behavior.\n",
      "  _warn_prf(average, modifier, msg_start, len(result))\n",
      "c:\\users\\diana\\appdata\\local\\programs\\python\\python39\\lib\\site-packages\\sklearn\\metrics\\_classification.py:1318: UndefinedMetricWarning: Precision and F-score are ill-defined and being set to 0.0 in labels with no predicted samples. Use `zero_division` parameter to control this behavior.\n",
      "  _warn_prf(average, modifier, msg_start, len(result))\n",
      "c:\\users\\diana\\appdata\\local\\programs\\python\\python39\\lib\\site-packages\\sklearn\\utils\\deprecation.py:103: FutureWarning: Attribute `coef_` was deprecated in version 0.24 and will be removed in 1.1 (renaming of 0.26).\n",
      "  warnings.warn(msg, category=FutureWarning)\n",
      "c:\\users\\diana\\appdata\\local\\programs\\python\\python39\\lib\\site-packages\\sklearn\\metrics\\_classification.py:1318: UndefinedMetricWarning: Precision and F-score are ill-defined and being set to 0.0 in labels with no predicted samples. Use `zero_division` parameter to control this behavior.\n",
      "  _warn_prf(average, modifier, msg_start, len(result))\n"
     ]
    },
    {
     "name": "stdout",
     "output_type": "stream",
     "text": [
      "              precision    recall  f1-score   support\n",
      "\n",
      "    Negative       0.00      0.00      0.00      9002\n",
      "     Neutral       0.00      0.00      0.00        31\n",
      "    Positive       0.74      1.00      0.85     25967\n",
      "\n",
      "    accuracy                           0.74     35000\n",
      "   macro avg       0.25      0.33      0.28     35000\n",
      "weighted avg       0.55      0.74      0.63     35000\n",
      "\n",
      "confusion matrix:\n",
      "[[    0     0  9002]\n",
      " [    0     0    31]\n",
      " [    0     0 25967]]\n",
      "\n",
      "Predicción\n",
      "['Positive' 'Positive' 'Positive' ... 'Positive' 'Positive' 'Positive']\n",
      "test time:  0.001s\n",
      "accuracy:   0.741\n",
      "dimensionality: 30\n",
      "density: 1.000000\n",
      "classification report:\n"
     ]
    },
    {
     "name": "stderr",
     "output_type": "stream",
     "text": [
      "c:\\users\\diana\\appdata\\local\\programs\\python\\python39\\lib\\site-packages\\sklearn\\metrics\\_classification.py:1318: UndefinedMetricWarning: Precision and F-score are ill-defined and being set to 0.0 in labels with no predicted samples. Use `zero_division` parameter to control this behavior.\n",
      "  _warn_prf(average, modifier, msg_start, len(result))\n",
      "c:\\users\\diana\\appdata\\local\\programs\\python\\python39\\lib\\site-packages\\sklearn\\metrics\\_classification.py:1318: UndefinedMetricWarning: Precision and F-score are ill-defined and being set to 0.0 in labels with no predicted samples. Use `zero_division` parameter to control this behavior.\n",
      "  _warn_prf(average, modifier, msg_start, len(result))\n"
     ]
    },
    {
     "name": "stdout",
     "output_type": "stream",
     "text": [
      "              precision    recall  f1-score   support\n",
      "\n",
      "    Negative       0.00      0.00      0.00      3878\n",
      "     Neutral       0.00      0.00      0.00        13\n",
      "    Positive       0.74      1.00      0.85     11109\n",
      "\n",
      "    accuracy                           0.74     15000\n",
      "   macro avg       0.25      0.33      0.28     15000\n",
      "weighted avg       0.55      0.74      0.63     15000\n",
      "\n",
      "confusion matrix:\n",
      "[[    0     0  3878]\n",
      " [    0     0    13]\n",
      " [    0     0 11109]]\n",
      "\n",
      "________________________________________________________________________________\n",
      "Training: \n",
      "BernoulliNB(alpha=0.01)\n",
      "train time: 0.054s\n",
      "['Positive' 'Negative' 'Positive' ... 'Positive' 'Positive' 'Positive']\n",
      "train time:  0.009s\n",
      "accuracy train:   0.698\n",
      "dimensionality: 30\n",
      "density: 1.000000\n",
      "classification report:\n"
     ]
    },
    {
     "name": "stderr",
     "output_type": "stream",
     "text": [
      "c:\\users\\diana\\appdata\\local\\programs\\python\\python39\\lib\\site-packages\\sklearn\\utils\\deprecation.py:103: FutureWarning: Attribute `coef_` was deprecated in version 0.24 and will be removed in 1.1 (renaming of 0.26).\n",
      "  warnings.warn(msg, category=FutureWarning)\n"
     ]
    },
    {
     "name": "stdout",
     "output_type": "stream",
     "text": [
      "              precision    recall  f1-score   support\n",
      "\n",
      "    Negative       0.35      0.08      0.13      9002\n",
      "     Neutral       0.01      0.48      0.02        31\n",
      "    Positive       0.75      0.91      0.82     25967\n",
      "\n",
      "    accuracy                           0.70     35000\n",
      "   macro avg       0.37      0.49      0.32     35000\n",
      "weighted avg       0.65      0.70      0.64     35000\n",
      "\n",
      "confusion matrix:\n",
      "[[  685   431  7886]\n",
      " [    4    15    12]\n",
      " [ 1244  1002 23721]]\n",
      "\n",
      "Predicción\n",
      "['Positive' 'Positive' 'Positive' ... 'Positive' 'Positive' 'Positive']\n",
      "test time:  0.004s\n",
      "accuracy:   0.676\n",
      "dimensionality: 30\n",
      "density: 1.000000\n",
      "classification report:\n",
      "              precision    recall  f1-score   support\n",
      "\n",
      "    Negative       0.32      0.13      0.18      3878\n",
      "     Neutral       0.01      0.54      0.02        13\n",
      "    Positive       0.75      0.87      0.80     11109\n",
      "\n",
      "    accuracy                           0.68     15000\n",
      "   macro avg       0.36      0.51      0.34     15000\n",
      "weighted avg       0.64      0.68      0.64     15000\n"
     ]
    },
    {
     "name": "stderr",
     "output_type": "stream",
     "text": [
      "c:\\users\\diana\\appdata\\local\\programs\\python\\python39\\lib\\site-packages\\sklearn\\utils\\deprecation.py:103: FutureWarning: Attribute `coef_` was deprecated in version 0.24 and will be removed in 1.1 (renaming of 0.26).\n",
      "  warnings.warn(msg, category=FutureWarning)\n"
     ]
    },
    {
     "name": "stdout",
     "output_type": "stream",
     "text": [
      "\n",
      "confusion matrix:\n",
      "[[ 487  189 3202]\n",
      " [   2    7    4]\n",
      " [1024  442 9643]]\n",
      "\n",
      "________________________________________________________________________________\n",
      "Training: \n",
      "ComplementNB(alpha=0.1)\n",
      "train time: 0.050s\n",
      "['Negative' 'Negative' 'Positive' ... 'Positive' 'Positive' 'Positive']\n",
      "train time:  0.004s\n",
      "accuracy train:   0.577\n",
      "dimensionality: 30\n",
      "density: 1.000000\n",
      "classification report:\n"
     ]
    },
    {
     "name": "stderr",
     "output_type": "stream",
     "text": [
      "c:\\users\\diana\\appdata\\local\\programs\\python\\python39\\lib\\site-packages\\sklearn\\utils\\deprecation.py:103: FutureWarning: Attribute `coef_` was deprecated in version 0.24 and will be removed in 1.1 (renaming of 0.26).\n",
      "  warnings.warn(msg, category=FutureWarning)\n",
      "c:\\users\\diana\\appdata\\local\\programs\\python\\python39\\lib\\site-packages\\sklearn\\metrics\\_classification.py:1318: UndefinedMetricWarning: Precision and F-score are ill-defined and being set to 0.0 in labels with no predicted samples. Use `zero_division` parameter to control this behavior.\n",
      "  _warn_prf(average, modifier, msg_start, len(result))\n",
      "c:\\users\\diana\\appdata\\local\\programs\\python\\python39\\lib\\site-packages\\sklearn\\metrics\\_classification.py:1318: UndefinedMetricWarning: Precision and F-score are ill-defined and being set to 0.0 in labels with no predicted samples. Use `zero_division` parameter to control this behavior.\n",
      "  _warn_prf(average, modifier, msg_start, len(result))\n",
      "c:\\users\\diana\\appdata\\local\\programs\\python\\python39\\lib\\site-packages\\sklearn\\metrics\\_classification.py:1318: UndefinedMetricWarning: Precision and F-score are ill-defined and being set to 0.0 in labels with no predicted samples. Use `zero_division` parameter to control this behavior.\n",
      "  _warn_prf(average, modifier, msg_start, len(result))\n",
      "c:\\users\\diana\\appdata\\local\\programs\\python\\python39\\lib\\site-packages\\sklearn\\utils\\deprecation.py:103: FutureWarning: Attribute `coef_` was deprecated in version 0.24 and will be removed in 1.1 (renaming of 0.26).\n",
      "  warnings.warn(msg, category=FutureWarning)\n",
      "c:\\users\\diana\\appdata\\local\\programs\\python\\python39\\lib\\site-packages\\sklearn\\metrics\\_classification.py:1318: UndefinedMetricWarning: Precision and F-score are ill-defined and being set to 0.0 in labels with no predicted samples. Use `zero_division` parameter to control this behavior.\n",
      "  _warn_prf(average, modifier, msg_start, len(result))\n"
     ]
    },
    {
     "name": "stdout",
     "output_type": "stream",
     "text": [
      "              precision    recall  f1-score   support\n",
      "\n",
      "    Negative       0.32      0.57      0.41      9002\n",
      "     Neutral       0.00      0.00      0.00        31\n",
      "    Positive       0.80      0.58      0.67     25967\n",
      "\n",
      "    accuracy                           0.58     35000\n",
      "   macro avg       0.37      0.38      0.36     35000\n",
      "weighted avg       0.67      0.58      0.60     35000\n",
      "\n",
      "confusion matrix:\n",
      "[[ 5159     0  3843]\n",
      " [   22     0     9]\n",
      " [10915     0 15052]]\n",
      "\n",
      "Predicción\n",
      "['Positive' 'Positive' 'Negative' ... 'Negative' 'Positive' 'Positive']\n",
      "test time:  0.002s\n",
      "accuracy:   0.491\n",
      "dimensionality: 30\n",
      "density: 1.000000\n",
      "classification report:\n"
     ]
    },
    {
     "name": "stderr",
     "output_type": "stream",
     "text": [
      "c:\\users\\diana\\appdata\\local\\programs\\python\\python39\\lib\\site-packages\\sklearn\\metrics\\_classification.py:1318: UndefinedMetricWarning: Precision and F-score are ill-defined and being set to 0.0 in labels with no predicted samples. Use `zero_division` parameter to control this behavior.\n",
      "  _warn_prf(average, modifier, msg_start, len(result))\n",
      "c:\\users\\diana\\appdata\\local\\programs\\python\\python39\\lib\\site-packages\\sklearn\\metrics\\_classification.py:1318: UndefinedMetricWarning: Precision and F-score are ill-defined and being set to 0.0 in labels with no predicted samples. Use `zero_division` parameter to control this behavior.\n",
      "  _warn_prf(average, modifier, msg_start, len(result))\n"
     ]
    },
    {
     "name": "stdout",
     "output_type": "stream",
     "text": [
      "              precision    recall  f1-score   support\n",
      "\n",
      "    Negative       0.29      0.70      0.41      3878\n",
      "     Neutral       0.00      0.00      0.00        13\n",
      "    Positive       0.80      0.42      0.55     11109\n",
      "\n",
      "    accuracy                           0.49     15000\n",
      "   macro avg       0.36      0.37      0.32     15000\n",
      "weighted avg       0.67      0.49      0.51     15000\n",
      "\n",
      "confusion matrix:\n",
      "[[2698    0 1180]\n",
      " [   8    0    5]\n",
      " [6440    0 4669]]\n",
      "\n",
      "================================================================================\n",
      "LinearSVC with L1-based feature selection\n",
      "________________________________________________________________________________\n",
      "Training: \n",
      "Pipeline(steps=[('feature_selection',\n",
      "                 SelectFromModel(estimator=LinearSVC(dual=False, penalty='l1',\n",
      "                                                     tol=0.001))),\n",
      "                ('classification', LinearSVC())])\n",
      "train time: 5.064s\n",
      "['Positive' 'Positive' 'Positive' ... 'Positive' 'Positive' 'Positive']\n",
      "train time:  0.008s\n",
      "accuracy train:   0.742\n",
      "classification report:\n"
     ]
    },
    {
     "name": "stderr",
     "output_type": "stream",
     "text": [
      "c:\\users\\diana\\appdata\\local\\programs\\python\\python39\\lib\\site-packages\\sklearn\\metrics\\_classification.py:1318: UndefinedMetricWarning: Precision and F-score are ill-defined and being set to 0.0 in labels with no predicted samples. Use `zero_division` parameter to control this behavior.\n",
      "  _warn_prf(average, modifier, msg_start, len(result))\n",
      "c:\\users\\diana\\appdata\\local\\programs\\python\\python39\\lib\\site-packages\\sklearn\\metrics\\_classification.py:1318: UndefinedMetricWarning: Precision and F-score are ill-defined and being set to 0.0 in labels with no predicted samples. Use `zero_division` parameter to control this behavior.\n",
      "  _warn_prf(average, modifier, msg_start, len(result))\n",
      "c:\\users\\diana\\appdata\\local\\programs\\python\\python39\\lib\\site-packages\\sklearn\\metrics\\_classification.py:1318: UndefinedMetricWarning: Precision and F-score are ill-defined and being set to 0.0 in labels with no predicted samples. Use `zero_division` parameter to control this behavior.\n",
      "  _warn_prf(average, modifier, msg_start, len(result))\n"
     ]
    },
    {
     "name": "stdout",
     "output_type": "stream",
     "text": [
      "              precision    recall  f1-score   support\n",
      "\n",
      "    Negative       0.49      0.01      0.02      9002\n",
      "     Neutral       0.00      0.00      0.00        31\n",
      "    Positive       0.74      1.00      0.85     25967\n",
      "\n",
      "    accuracy                           0.74     35000\n",
      "   macro avg       0.41      0.34      0.29     35000\n",
      "weighted avg       0.68      0.74      0.64     35000\n",
      "\n",
      "confusion matrix:\n",
      "[[   94     0  8908]\n",
      " [    0     0    31]\n",
      " [   98     0 25869]]\n",
      "\n",
      "Predicción\n",
      "['Positive' 'Positive' 'Positive' ... 'Positive' 'Positive' 'Positive']\n",
      "test time:  0.003s\n",
      "accuracy:   0.739\n",
      "classification report:\n",
      "              precision    recall  f1-score   support\n",
      "\n",
      "    Negative       0.45      0.03      0.05      3878\n",
      "     Neutral       0.00      0.00      0.00        13\n",
      "    Positive       0.74      0.99      0.85     11109\n",
      "\n",
      "    accuracy                           0.74     15000\n",
      "   macro avg       0.40      0.34      0.30     15000\n",
      "weighted avg       0.67      0.74      0.64     15000\n",
      "\n",
      "confusion matrix:\n",
      "[[  106     0  3772]\n",
      " [    2     0    11]\n",
      " [  126     0 10983]]\n",
      "\n"
     ]
    },
    {
     "name": "stderr",
     "output_type": "stream",
     "text": [
      "c:\\users\\diana\\appdata\\local\\programs\\python\\python39\\lib\\site-packages\\sklearn\\metrics\\_classification.py:1318: UndefinedMetricWarning: Precision and F-score are ill-defined and being set to 0.0 in labels with no predicted samples. Use `zero_division` parameter to control this behavior.\n",
      "  _warn_prf(average, modifier, msg_start, len(result))\n",
      "c:\\users\\diana\\appdata\\local\\programs\\python\\python39\\lib\\site-packages\\sklearn\\metrics\\_classification.py:1318: UndefinedMetricWarning: Precision and F-score are ill-defined and being set to 0.0 in labels with no predicted samples. Use `zero_division` parameter to control this behavior.\n",
      "  _warn_prf(average, modifier, msg_start, len(result))\n",
      "c:\\users\\diana\\appdata\\local\\programs\\python\\python39\\lib\\site-packages\\sklearn\\metrics\\_classification.py:1318: UndefinedMetricWarning: Precision and F-score are ill-defined and being set to 0.0 in labels with no predicted samples. Use `zero_division` parameter to control this behavior.\n",
      "  _warn_prf(average, modifier, msg_start, len(result))\n"
     ]
    }
   ],
   "source": [
    "results = []\n",
    "for clf, name in (\n",
    "    (RidgeClassifier(max_iter=50, tol=1e-3, solver=\"sag\"), \"Ridge Classifier\"),\n",
    "    (Perceptron(max_iter=50), \"Perceptron\"),\n",
    "    (PassiveAggressiveClassifier(max_iter=50), \"Passive-Aggressive\"),\n",
    "    (KNeighborsClassifier(n_neighbors=10, weights='distance'), \"kNN\"),\n",
    "    (RandomForestClassifier(n_estimators=50, max_depth=15), \"Random forest\"),\n",
    "):\n",
    "    print(\"=\" * 80)\n",
    "    print(name)\n",
    "    results.append(benchmark(clf))\n",
    "\n",
    "for penalty in [\"l2\", \"l1\"]:\n",
    "    print(\"=\" * 80)\n",
    "    print(\"%s penalty\" % penalty.upper())\n",
    "    # Train Liblinear model\n",
    "    results.append(benchmark(LinearSVC(penalty=penalty, dual=False, tol=1e-3)))\n",
    "\n",
    "    # Train SGD model\n",
    "    results.append(benchmark(SGDClassifier(alpha=0.0001, max_iter=50, penalty=penalty)))\n",
    "\n",
    "# Train SGD with Elastic Net penalty\n",
    "print(\"=\" * 80)\n",
    "print(\"Elastic-Net penalty\")\n",
    "results.append(\n",
    "    benchmark(SGDClassifier(alpha=0.0001, max_iter=50, penalty=\"elasticnet\")))\n",
    "\n",
    "# Train NearestCentroid without threshold\n",
    "print(\"=\" * 80)\n",
    "print(\"NearestCentroid (aka Rocchio classifier)\")\n",
    "results.append(benchmark(NearestCentroid()))\n",
    "\n",
    "# Train sparse Naive Bayes classifiers\n",
    "print(\"=\" * 80)\n",
    "print(\"Naive Bayes\")\n",
    "results.append(benchmark(MultinomialNB(alpha=0.01)))\n",
    "results.append(benchmark(BernoulliNB(alpha=0.01)))\n",
    "results.append(benchmark(ComplementNB(alpha=0.1)))\n",
    "\n",
    "print(\"=\" * 80)\n",
    "print(\"LinearSVC with L1-based feature selection\")\n",
    "# The smaller C, the stronger the regularization.\n",
    "# The more regularization, the more sparsity.\n",
    "results.append(\n",
    "    benchmark(Pipeline([(\"feature_selection\",SelectFromModel(LinearSVC(penalty=\"l1\", dual=False, tol=1e-3)),),\n",
    "                (\"classification\", LinearSVC(penalty=\"l2\")),])))"
   ]
  },
  {
   "cell_type": "code",
   "execution_count": null,
   "id": "ce00867c",
   "metadata": {},
   "outputs": [],
   "source": []
  }
 ],
 "metadata": {
  "colab": {
   "name": "Tarea1.ipynb",
   "provenance": []
  },
  "kernelspec": {
   "display_name": "Python 3 (ipykernel)",
   "language": "python",
   "name": "python3"
  },
  "language_info": {
   "codemirror_mode": {
    "name": "ipython",
    "version": 3
   },
   "file_extension": ".py",
   "mimetype": "text/x-python",
   "name": "python",
   "nbconvert_exporter": "python",
   "pygments_lexer": "ipython3",
   "version": "3.9.6"
  },
  "toc": {
   "base_numbering": 1,
   "nav_menu": {},
   "number_sections": true,
   "sideBar": true,
   "skip_h1_title": false,
   "title_cell": "Table of Contents",
   "title_sidebar": "Contents",
   "toc_cell": false,
   "toc_position": {},
   "toc_section_display": true,
   "toc_window_display": false
  }
 },
 "nbformat": 4,
 "nbformat_minor": 5
}
